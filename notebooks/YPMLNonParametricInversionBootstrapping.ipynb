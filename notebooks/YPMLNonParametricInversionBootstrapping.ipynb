{
 "cells": [
  {
   "cell_type": "markdown",
   "source": [
    "**Import modules and set paths.**"
   ],
   "metadata": {}
  },
  {
   "cell_type": "code",
   "execution_count": 1,
   "source": [
    "%matplotlib inline\n",
    "%config InlineBackend.figure_format = 'retina'\n",
    "\n",
    "import os\n",
    "import sys\n",
    "import glob\n",
    "# from multiprocess import Pool\n",
    "from copy import deepcopy\n",
    "## make paths above 'notebooks/' visible for local imports.\n",
    "module_path = os.path.abspath(os.path.join('..'))\n",
    "if module_path not in sys.path:\n",
    "    sys.path.append(module_path)\n",
    "\n",
    "import numpy as np\n",
    "import pandas as pd \n",
    "# from scipy.linalg import lstsq\n",
    "print(f\"using numpy v{np.__version__}.\")\n",
    "print(f\"using pandas v{pd.__version__}.\")\n",
    "\n",
    "import matplotlib\n",
    "import matplotlib.ticker as ticker\n",
    "import matplotlib.pyplot as plt\n",
    "\n",
    "from ipywidgets import interact\n",
    "\n",
    "from lininvbox.lininvbox.equation import Term\n",
    "from lininvbox.lininvbox.constructors import *\n",
    "from lininvbox.lininvbox.operations import *\n",
    "from lininvbox.lininvbox.inversion import Inversion\n",
    "from lininvbox.lininvbox.constraints import *\n",
    "from lininvbox.lininvbox.regularisation import *\n",
    "from lininvbox.lininvbox.utils import delete_directory\n",
    "from magscales.magscales import Richter1958\n",
    "from plotconf import matsettings\n"
   ],
   "outputs": [
    {
     "output_type": "stream",
     "name": "stdout",
     "text": [
      "using numpy v1.21.0.\n",
      "using pandas v1.3.0.\n"
     ]
    }
   ],
   "metadata": {}
  },
  {
   "cell_type": "markdown",
   "source": [
    "## Yellowstone National Park $M_L$ Non-Paramatric Inversion Bootstrapping\n",
    "### A notebook to perform bootstrapping for a given YP $M_L$ model to estimate the model uncertainty.\n",
    "\n"
   ],
   "metadata": {}
  },
  {
   "cell_type": "markdown",
   "source": [
    "#### Load the model and catalog."
   ],
   "metadata": {}
  },
  {
   "cell_type": "code",
   "execution_count": 2,
   "source": [
    "def vis_inv_output(inv):\n",
    "\n",
    "    terms = inv.m.term_map.values.keys()\n",
    "    X, Y = [],[]\n",
    "    for term in terms:\n",
    "        tmp = inv.m.term_map.get_term(term)\n",
    "        if term == \"MLi\":\n",
    "            X.append(tmp['unique_indices'])\n",
    "        else:\n",
    "            X.append(tmp['unique_labels'])\n",
    "        Y.append(tmp['model_values'])\n",
    "\n",
    "    fig, axes = plt.subplots(1, 3, figsize=(15, 5))\n",
    "    for ax, y, x, term, x_lab in zip(axes, Y, X, terms, [\"Rhyp [km]\", \"Ev #\", \"Sj\"]):\n",
    "        ax.plot(x, y, 'ks', mfc='none')\n",
    "        ax.set_ylabel(term)\n",
    "        ax.set_xlabel(x_lab)\n",
    "        if term == \"Sj\":\n",
    "            ax.tick_params(axis='x', labelrotation = 90)\n",
    "            \n",
    "    return fig, axes\n",
    "\n",
    "class FileManager():\n",
    "    \n",
    "    @property\n",
    "    def cat(self) -> pd.DataFrame:\n",
    "        return self._cat\n",
    "    @cat.setter\n",
    "    def cat(self, cat: pd.DataFrame):\n",
    "        assert type(cat) is pd.DataFrame\n",
    "        self._cat = cat\n",
    "        \n",
    "    @property\n",
    "    def model(self)->pd.DataFrame:\n",
    "        return self._model\n",
    "    @model.setter\n",
    "    def model(self, mod: pd.DataFrame):\n",
    "        assert type(mod) is pd.DataFrame\n",
    "        self._model = mod\n",
    "\n",
    "session = FileManager()\n",
    "@interact\n",
    "def load_data(path=sorted(glob.glob(\"../catalogs/amplitudes/*geobalanced.csv\"))):\n",
    "    tdf = pd.read_csv(path)\n",
    "    print(f\"loaded catalog {path.split('/')[-1]} ...\")  \n",
    "    session.cat = tdf.copy()\n",
    "    session.cat_path = path\n",
    "    return session.cat.head()\n",
    "\n",
    "@interact\n",
    "def load_model(path=sorted(glob.glob(\"../mlinversion/.model/*.json\"))):\n",
    "    tdf = pd.read_json(path)\n",
    "    print(f\"loaded model {path.split('/')[-1]} ...\") \n",
    "    session.model = tdf.copy()\n",
    "    session.model_path = path\n",
    "    return session.model"
   ],
   "outputs": [
    {
     "output_type": "display_data",
     "data": {
      "text/plain": [
       "interactive(children=(Dropdown(description='path', options=('../catalogs/amplitudes/yellowstone.amps.clean.geo…"
      ],
      "application/vnd.jupyter.widget-view+json": {
       "version_major": 2,
       "version_minor": 0,
       "model_id": "90fc5cb88832486fbcf7660bc10c3435"
      }
     },
     "metadata": {}
    },
    {
     "output_type": "display_data",
     "data": {
      "text/plain": [
       "interactive(children=(Dropdown(description='path', options=('../mlinversion/.model/YPML-model-MLi-4-Sj-1.json'…"
      ],
      "application/vnd.jupyter.widget-view+json": {
       "version_major": 2,
       "version_minor": 0,
       "model_id": "dc26b32c53fd4a8781362d26b5b3080c"
      }
     },
     "metadata": {}
    }
   ],
   "metadata": {}
  },
  {
   "cell_type": "code",
   "execution_count": 3,
   "source": [
    "def model_df_to_terms(mod_df):\n",
    "    \n",
    "    terms = []\n",
    "    for i, row in mod_df.T.iterrows():\n",
    "        \n",
    "        name = i\n",
    "        rl = np.array(row[\"raw_labels\"])\n",
    "        sign = row['sign'][0]\n",
    "        kind = row[\"kind\"].upper()\n",
    "        \n",
    "        if kind == \"LINEAR INTERPOLATION\":\n",
    "            \n",
    "            ul = np.array(row[\"unique_labels\"])\n",
    "            terms.append(Term(name, kind, rl, unique_labels=ul, sign=sign))\n",
    "            continue\n",
    "        \n",
    "        terms.append(Term(name, kind, rl, sign=sign))    \n",
    "\n",
    "    return terms\n",
    "\n",
    "def model_df_to_constraints(mod_df):\n",
    "    \n",
    "    cons = OrderedDict()\n",
    "    for i, row in mod_df.T.iterrows():\n",
    "        name = i\n",
    "        if row['constraints']:\n",
    "            cons[name] = row['constraints']\n",
    "    \n",
    "    return cons\n",
    "\n",
    "\n",
    "mcat = session.model.copy(deep=True)  \n",
    "\n",
    "logA0np, MLip, Sjp = model_df_to_terms(mcat)\n",
    "\n",
    "G = LinInterpCoeffs(logA0np) + ConstantCoeffs(MLip) + ConstantCoeffs(Sjp)\n",
    "d = DataArray(session.cat['halfAmpH'].apply(np.log10))\n",
    "Gamma = Regularisation(G.term_map, \n",
    "                       regs=OrderedDict(\n",
    "                               logA0n=dict(\n",
    "                                   kind=mcat.T.loc[\"logA0n\"]['regularisation']['kind'],\n",
    "                                   alpha=mcat.T.loc[\"logA0n\"]['regularisation']['alpha']\n",
    "                                          )\n",
    "                                        )\n",
    "                        )\n",
    "C = Constraints(G.term_map, constraints=model_df_to_constraints(mcat))"
   ],
   "outputs": [],
   "metadata": {}
  },
  {
   "cell_type": "markdown",
   "source": [
    "### Do inversion and validate it."
   ],
   "metadata": {}
  },
  {
   "cell_type": "code",
   "execution_count": 4,
   "source": [
    "pct=0.2\n",
    "inv = Inversion(\"YPML-BTS\")\n",
    "# x = np.random.choice(G.matrix.shape[0], int(np.ceil(np.round(G.matrix.shape[0]*pct)/2)*2), replace=False)\n",
    "# np.random.shuffle(x)\n",
    "# keep, replace = x[:int(np.round(len(x)/2, 0))], x[int(np.round(len(x)/2, 0)):]\n",
    "\n",
    "# G.matrix.data[replace] = G.matrix.data[keep]\n",
    "# G.matrix.col[replace] = G.matrix.col[keep]\n",
    "# G.matrix.row[replace] = G.matrix.row[keep]\n",
    "\n",
    "# d.array.data[replace] = d.array.data[keep]\n",
    "# d.array.col[replace] = d.array.col[keep]\n",
    "# d.array.row[replace] = d.array.row[keep]\n",
    "    \n",
    "m = inv.invert(G, d, constraints=C, regularisation=Gamma)"
   ],
   "outputs": [],
   "metadata": {}
  },
  {
   "cell_type": "markdown",
   "source": [
    "#### Ensure that the model was loaded and recreated correctly.\n",
    "If we perfrom the inversion from scratch using the same data, then we should expect the result to be perfectly correlated with the one we loaded.\n",
    "We just want to make this check before bootstrapping to ensure our bootstrap inversions belong to the set of results related to the original! "
   ],
   "metadata": {}
  },
  {
   "cell_type": "code",
   "execution_count": 5,
   "source": [
    "test = pd.DataFrame(G.term_map.values)\n",
    "\n",
    "fig, axes = plt.subplots(1, 3, figsize=(15, 5))\n",
    "for orig, loaded, ax in zip(mcat.T.iterrows(), test.T.iterrows(), axes.flatten()):\n",
    "\n",
    "    on, rown = orig\n",
    "    ol, rowl = loaded\n",
    "    ax.set_title(f\"{on}\")\n",
    "    ax.plot(rown[\"model_values\"], rowl[\"model_values\"], 'k')\n",
    "    ax.set_aspect('equal')"
   ],
   "outputs": [
    {
     "output_type": "display_data",
     "data": {
      "text/plain": [
       "<Figure size 1080x360 with 3 Axes>"
      ],
      "image/png": "[encoded data removed]"
     },
     "metadata": {
      "image/png": {
       "width": 894,
       "height": 296
      },
      "needs_background": "light"
     }
    }
   ],
   "metadata": {}
  },
  {
   "cell_type": "code",
   "execution_count": 6,
   "source": [
    "def do_bts_serial(pct, _G, _d, _C, _Gamma):\n",
    "    \n",
    "    inv = Inversion(\"\")\n",
    "#     print(_G)\n",
    "    \n",
    "    x = np.random.choice(_G.matrix.shape[0], int(np.ceil(np.round(_G.matrix.shape[0]*pct)/2)*2), replace=False)\n",
    "    np.random.shuffle(x)\n",
    "    keep, replace = x[:int(np.round(len(x)/2, 0))], x[int(np.round(len(x)/2, 0)):]\n",
    "    \n",
    "    _G = deepcopy(G)\n",
    "    _d = deepcopy(d)\n",
    "    \n",
    "    tG = G.matrix.toarray()\n",
    "    td = d.array.toarray()\n",
    "    \n",
    "    tG[replace] = tG[keep]\n",
    "    td[replace] = td[keep]\n",
    "\n",
    "    _G.matrix = coo_matrix(tG)\n",
    "    _d.matrix = coo_matrix(td)\n",
    "    \n",
    "    m = inv.invert(_G, _d, constraints=_C, regularisation=_Gamma, inplace=False)\n",
    "\n",
    "    return m.array.toarray()[:_G.matrix.shape[1]]\n",
    "\n",
    "def run_bts(N, pct, G, d, constraints, regularisation):\n",
    "#     global pct, G, d, constraints, regularisation\n",
    "    bts_out = []\n",
    "    for _ in range(N):\n",
    "        bts.append(do_bts_serial(pct, G, d, constraints, regularisation))\n",
    "\n",
    "    bts_out = np.concatenate(bts_out, axis=1)\n",
    "    \n",
    "    return bts_out "
   ],
   "outputs": [],
   "metadata": {}
  },
  {
   "cell_type": "code",
   "execution_count": null,
   "source": [],
   "outputs": [],
   "metadata": {}
  },
  {
   "cell_type": "markdown",
   "source": [
    "### Run the bootstrapping"
   ],
   "metadata": {}
  },
  {
   "cell_type": "code",
   "execution_count": 7,
   "source": [
    "how = \"SERIAL\" # \"PARALLEL\"\n",
    "poolsize = 7\n",
    "NBTS = 1000\n",
    "pct = 0.2\n",
    "overwrite = False\n",
    "fname = session.model_path.split(\"/\")[-1].split(\".\")[0]\n",
    "\n",
    "def run_bootstrap_session(NBTS,\n",
    "                          G, \n",
    "                          d, \n",
    "                          pct,\n",
    "                          how=\"SERIAL\",  \n",
    "                          fname = fname,\n",
    "                          overwrite = False, \n",
    "                          constraints = None, \n",
    "                          regularisation = None,\n",
    "                          root = \"../mlinversion/.bts\"\n",
    "                         ):\n",
    "\n",
    "    if not overwrite:\n",
    "        try:\n",
    "            return np.load(f\"{root}/{fname}.npy\")\n",
    "        except FileNotFoundError:\n",
    "            pass\n",
    "            \n",
    "    #TODO: Fix parallel implementation - low priority.\n",
    "#     if how.upper() == \"PARALLEL\":\n",
    "#         with Pool(poolsize) as p:\n",
    "#             print(f\"Running {NBTS} bootstrap iterations in parrallel using {poolsize} processes.\")\n",
    "#             bts = np.concatenate(p.map(run_bts, [10 for _ in range(int(NBTS/10))]), axis=1)\n",
    "    if how.upper() == \"SERIAL\":\n",
    "        print(f\"Running {NBTS} bootstrap iterations in serial.\")\n",
    "        bts = run_bts(NBTS, pct, G, d, constraints, regularisation)\n",
    "    \n",
    "    os.makedirs(f\"{root}/\", exist_ok=True)\n",
    "    np.save(f\"{root}/{fname}.npy\", bts)\n",
    "    \n",
    "    return bts\n",
    "\n",
    "bts = run_bootstrap_session(\n",
    "    NBTS, \n",
    "    G, \n",
    "    d, \n",
    "    pct, \n",
    "    fname = fname, \n",
    "    constraints = C, \n",
    "    regularisation = Gamma, \n",
    "    overwrite = overwrite\n",
    "    )"
   ],
   "outputs": [],
   "metadata": {}
  },
  {
   "cell_type": "code",
   "execution_count": 10,
   "source": [
    "#bootstrap statistics\n",
    "mn = bts.mean(axis=1)\n",
    "mdn = np.median(bts, axis=1)\n",
    "std = bts.std(axis=1)\n",
    "nfc = std*2\n",
    "var = np.var(bts, axis=1)\n",
    "vars = np.max(bts, axis=1) - mn\n",
    "e_map = dict(mean = mn, median=mdn, std=std, nfc=nfc, var=var)\n",
    "# the distance correction values presented by Luckett et al. (2019)\n",
    "dc_params = {\n",
    "    \"UK\": (1.11, 0.00185, -2.09, -1.16, 0.2),\n",
    "    \"Amatrice\": (1.11, 0.00185, -2.09, -3.05, 0.17),\n",
    "    \"Northern_Norway\": (0.91, 0.00087, -1.67, -0.74, 0.09)\n",
    "}\n",
    "\n",
    "def parametric_distance_corr(r, a, b, c, d, e):\n",
    "    \"\"\"\n",
    "    Computes the distance correction of a parametric model with 5 parameters.\n",
    "    \"\"\"\n",
    "    return a * np.log10(r) + b * r + d * np.exp(-e * r) + c + 3 \n",
    "\n",
    "\n",
    "def log_bilinear(x, bp, a):\n",
    "    \"\"\"\n",
    "    Computes predicted values for a given bilinear model in logspace i.e., log(x) and log(y).\n",
    "\n",
    "    Parameters\n",
    "    ----------\n",
    "    x: np.ndarray\n",
    "        The x values of the model - not in log units.\n",
    "    bp: float\n",
    "        The breakpoint between linear segments.\n",
    "    a: tuple(float, float)\n",
    "        A tuple containing the slopes of each linear segment (before and after the breakpoint).\n",
    "\n",
    "    Returns\n",
    "    -------\n",
    "    y: np.ndarray\n",
    "        The array of predicted values for the bilinear model. \n",
    "    \"\"\"\n",
    "    y = np.zeros(x.size)\n",
    "\n",
    "    y[x <= bp] = a[0] * np.log10(x[x <= bp])\n",
    "\n",
    "    y[x > bp] = a[0] * np.log10(bp) + a[1] * np.log10(x[x > bp] / bp)\n",
    "\n",
    "    return y\n",
    "\n",
    "def vis_bts_inv_output(inv, e_map, err, cap = 60):\n",
    "        \n",
    "        \n",
    "    terms = inv.m.term_map.values.keys()\n",
    "    X, Y, Z = [],[],[]\n",
    "    for term in terms:\n",
    "        tmp = inv.m.term_map.get_term(term)\n",
    "        if term == \"MLi\":\n",
    "            X.append(tmp['unique_indices'])\n",
    "        else:\n",
    "            X.append(tmp['unique_labels'])\n",
    "        Y.append(tmp['model_values'])\n",
    "        Z.append(tmp['model_indices'])\n",
    "\n",
    "    fig, axes = plt.subplots(2, 2, figsize=(11, 10))\n",
    "    axes = axes.flatten()\n",
    "    for x, y, z, term, x_lab, y_lab, sym, ms, pos in zip(X, Y, Z, terms,\n",
    "                                                        [r\"$R$ $\\mathrm{[km]}$\", \"Event #\", \"Station\"], \n",
    "                                                        [r\"$-\\mathrm{log(A_0)}_n$\", r\"$M_{L_{i}}$\", r\"$S_j$\"],\n",
    "                                                        ['ks', 'k.', 'r^'],\n",
    "                                                        [6, 7, 10],\n",
    "                                                        [0, 2, 3]\n",
    "                                                        ):\n",
    "        y = -y if term == \"logA0n\" else y\n",
    "        axes[pos].plot(x, y, sym, mfc='none', ms=ms, zorder=10, label=\"YP21\")\n",
    "        axes[pos].set_ylabel(y_lab)\n",
    "        axes[pos].set_xlabel(x_lab)\n",
    "        \n",
    "        if term == \"logA0n\":\n",
    "\n",
    "            axes[1].plot(x[x<=cap], y[x<=cap], sym, mfc='none', label='YP21')\n",
    "            axes[pos].invert_yaxis()\n",
    "            axes[1].invert_yaxis()\n",
    "            r = Richter1958()\n",
    "            axes[pos].plot(\n",
    "                r.distances[r.distances<=180], \n",
    "                -r.logA0[r.distances<=180], \n",
    "                '^',\n",
    "                color = 'k', \n",
    "                zorder = 1, \n",
    "                label = \"R58\",\n",
    "                )\n",
    "\n",
    "            axes[pos].fill_between(x, y + e_map[err][z], y - e_map[err][z], color='grey', alpha=0.5)\n",
    "            # TODO: Make this comparison plot a separate function\n",
    "            # plot the - rather compilicated - comparison of near-source \n",
    "            d = np.geomspace(3, cap, 30)\n",
    "            dd = np.arange(0, cap + 1)\n",
    "            bp = 15\n",
    "            a = 1, 3\n",
    "            geo = log_bilinear(dd, bp, a)\n",
    "            axes[1].semilogx(dd[dd<=bp], geo[dd<=bp], ':', lw=3, color='grey', label=r'${R_{hyp}}^{-1}$')\n",
    "            axes[1].plot(dd[dd>=bp], geo[dd>=bp], '--', lw=3, color='grey', label=r'${R_{hyp}}^{-3}$')\n",
    "            _ = axes[1].set(xlabel=r\"$R_{hyp}$ $\\mathrm{[km]}$\", ylim=[3, 0], xlim=[1, 100])\n",
    "            axes[1].xaxis.set_major_formatter(ticker.FuncFormatter(lambda x, _: '{:g}'.format(x)))\n",
    "\n",
    "            \n",
    "            for region, mk, leg_lab in zip([\"UK\", \"Amatrice\", \"Northern_Norway\"], ['-*', '-^', '-s'], [\"UK\", \"Am\", \"NN\"]):\n",
    "                axes[1].plot(\n",
    "                    d[::3], \n",
    "                    parametric_distance_corr(d[::3], *dc_params[region]), \n",
    "                    mk, \n",
    "                    lw=0.5,\n",
    "                    mfc='none',\n",
    "                    color='k',\n",
    "                    label=f\"L19-{leg_lab}\"\n",
    "                    )\n",
    "\n",
    "            # axes[-1].plot(\n",
    "            #     r.distances[r.distances<=cap], \n",
    "            #     r.logA0[r.distances<=cap], \n",
    "            #     'k^', \n",
    "            #     zorder = 1, \n",
    "            #     label = \"R58\"\n",
    "            #     )\n",
    "        \n",
    "        if term == \"MLi\":\n",
    "            fx = np.array(list(inv.m.term_map.get_term(\"MLi\")['constraints'].items()))\n",
    "            fy = inv.m.term_map.get_term(\"MLi\")['unique_labels']\n",
    "            fY = inv.m.term_map.get_term(\"MLi\")['model_values']\n",
    "            fX = inv.m.term_map.get_term(\"MLi\")['unique_indices']\n",
    "            fx, fy = fX[np.isin(fy, fx)], fY[np.isin(fy, fx)] \n",
    "            axes[pos].plot(fx, fy, 'rs', mfc='none')\n",
    "            \n",
    "        if term == \"Sj\":\n",
    "            axes[pos].errorbar(x, y, e_map[err][z], ecolor='k', capsize=4, elinewidth=2, linestyle='', zorder=0)\n",
    "            axes[pos].tick_params(axis='x', labelrotation = 90)\n",
    "            s = f\"\\u03A3 {r'$S_j$'}={np.sum(G.term_map.get_term('Sj')['model_values']):.0E}\"\n",
    "            axes[pos].text(0.01, 0.95, s, horizontalalignment='left', verticalalignment='center', transform=axes[pos].transAxes)\n",
    "            axes[pos].hlines(0, 0, len(x)-1, color='k', linestyles='dashed')\n",
    "            sj = np.array(list(inv.m.term_map.get_term(\"Sj\")['constraints'].items())[1:])\n",
    "            if sj.size > 1:\n",
    "                axes[pos].plot(sj[:,0], sj[:,1].astype(float), 's', color='r', ms=10)\n",
    "            axes[pos].set_ylim([-1, 1])\n",
    "            axes[pos].xaxis.set_ticklabels([code.split(\".\")[-1] for code in x])\n",
    "            \n",
    "        \n",
    "    tick_spacings = [30, 250]\n",
    "    for i, ax in enumerate([axes[0], axes[2]]):\n",
    "        tick_spacing = tick_spacings[i]\n",
    "        ax.xaxis.set_major_locator(ticker.MultipleLocator(tick_spacing))\n",
    "    axes[0].legend(loc='upper right')\n",
    "    axes[1].legend(loc='upper right')\n",
    "    fig.tight_layout()\n",
    "    return fig, axes\n",
    "\n",
    "@interact\n",
    "def interact_vis(err=['std', 'nfc', 'var'], cap=[100,]):\n",
    "    global inv, e_map\n",
    "    plt.close()\n",
    "    fig, _ = vis_bts_inv_output(inv, e_map, err, cap)\n",
    "    fname = session.model_path.split(\"/\")[-1].split(\".\")[0]\n",
    "    fig.savefig(f\"../figures/INVOUT-{err}-{fname}.pdf\");\n",
    "    plt.show();"
   ],
   "outputs": [
    {
     "output_type": "display_data",
     "data": {
      "text/plain": [
       "interactive(children=(Dropdown(description='err', options=('std', 'nfc', 'var'), value='std'), Dropdown(descri…"
      ],
      "application/vnd.jupyter.widget-view+json": {
       "version_major": 2,
       "version_minor": 0,
       "model_id": "3eb6562774a941b9906d8b9ca0410b6a"
      }
     },
     "metadata": {}
    }
   ],
   "metadata": {}
  },
  {
   "cell_type": "code",
   "execution_count": 9,
   "source": [
    "# stuff\n",
    "\n",
    "r = Richter1958()\n",
    "Ds = [] \n",
    "diff = []\n",
    "for D in np.arange(50, 185, 5):\n",
    "    loc = np.where(np.array(session.model.loc[\"unique_labels\", \"logA0n\"])==D)\n",
    "    YP = np.array(session.model.loc[\"model_values\", \"logA0n\"])[loc]\n",
    "    R = r.logA0[r.distances==D]\n",
    "    Ds.append(D)\n",
    "    diff.append(float(np.abs(YP-R)) if YP-R else np.nan)\n",
    "    \n",
    "plt.plot(Ds, diff, 'ko')"
   ],
   "outputs": [
    {
     "output_type": "stream",
     "name": "stderr",
     "text": [
      "/var/folders/rp/8sbsdrv12vxcv2m5tfwp4rf00000gn/T/ipykernel_61043/2993776636.py:11: DeprecationWarning: The truth value of an empty array is ambiguous. Returning False, but in future this will result in an error. Use `array.size > 0` to check that an array is not empty.\n",
      "  diff.append(float(np.abs(YP-R)) if YP-R else np.nan)\n"
     ]
    },
    {
     "output_type": "execute_result",
     "data": {
      "text/plain": [
       "[<matplotlib.lines.Line2D at 0x7fc7508acb50>]"
      ]
     },
     "metadata": {},
     "execution_count": 9
    },
    {
     "output_type": "display_data",
     "data": {
      "text/plain": [
       "<Figure size 432x288 with 1 Axes>"
      ],
      "image/png": "[encoded data removed]"
     },
     "metadata": {
      "image/png": {
       "width": 380,
       "height": 252
      },
      "needs_background": "light"
     }
    }
   ],
   "metadata": {}
  },
  {
   "cell_type": "code",
   "execution_count": null,
   "source": [],
   "outputs": [],
   "metadata": {}
  },
  {
   "cell_type": "code",
   "execution_count": null,
   "source": [],
   "outputs": [],
   "metadata": {}
  },
  {
   "cell_type": "code",
   "execution_count": null,
   "source": [],
   "outputs": [],
   "metadata": {}
  }
 ],
 "metadata": {
  "kernelspec": {
   "name": "python3",
   "display_name": "Python 3.8.10 64-bit ('ypml': conda)"
  },
  "language_info": {
   "codemirror_mode": {
    "name": "ipython",
    "version": 3
   },
   "file_extension": ".py",
   "mimetype": "text/x-python",
   "name": "python",
   "nbconvert_exporter": "python",
   "pygments_lexer": "ipython3",
   "version": "3.8.10"
  },
  "interpreter": {
   "hash": "f2552cc8b06e698eb413a27bbbce35a1b1c2bc664e51345fd8212f8a3a39192a"
  }
 },
 "nbformat": 4,
 "nbformat_minor": 4
}