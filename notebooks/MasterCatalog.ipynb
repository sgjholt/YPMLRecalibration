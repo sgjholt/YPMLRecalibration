{
 "cells": [
  {
   "cell_type": "markdown",
   "metadata": {},
   "source": [
    "# Master Catalog\n",
    "## A notebook to merge and do some catalog stats for all events in YP"
   ]
  },
  {
   "cell_type": "code",
   "execution_count": 1,
   "metadata": {},
   "outputs": [],
   "source": [
    "import os\n",
    "import sys\n",
    "## This code block tells the notebook to find paths above it, \n",
    "# meaning modules above 'notebooks/' are now visible and can be imported.\n",
    "module_path = os.path.abspath(os.path.join('..'))\n",
    "if module_path not in sys.path:\n",
    "    sys.path.append(module_path)\n",
    "## subsequent imports    \n",
    "import numpy as np\n",
    "import pandas as pd\n",
    "import matplotlib\n",
    "import matplotlib.pyplot as plt\n",
    "params = {\n",
    "    'text.latex.preamble': ['\\\\usepackage{gensymb}'],\n",
    "    'image.origin': 'lower',\n",
    "    'image.interpolation': 'nearest',\n",
    "    'image.cmap': 'gray',\n",
    "    'savefig.dpi': 150,  # to adjust notebook inline plot size\n",
    "    'axes.labelsize': 15, # fontsize for x and y labels (was 10)\n",
    "    'axes.titlesize': 12,\n",
    "    'font.size': 15, # was 10\n",
    "    'legend.fontsize': 10, # was 10\n",
    "    'xtick.labelsize': 12,\n",
    "    'ytick.labelsize': 12,\n",
    "    'font.family': 'serif',\n",
    "    'svg.fonttype': 'none'\n",
    "}\n",
    "matplotlib.rcParams.update(params)"
   ]
  },
  {
   "cell_type": "markdown",
   "metadata": {},
   "source": [
    "Global variables."
   ]
  },
  {
   "cell_type": "code",
   "execution_count": 2,
   "metadata": {},
   "outputs": [],
   "source": [
    "# PDIR = \"/uufs/chpc.utah.edu/common/home/koper-group2/jholt/Yellowstone/Local_Magnitude_Study/NonParaInvRedux\"\n",
    "\n",
    "# legacyCatPath = f\"{PDIR}/catalogs/events/oldevids.yellowstone.cat\"\n",
    "# currentCatPath = f\"{PDIR}/catalogs/events/newevids.yellowstone.cat\"\n",
    "\n",
    "CatPath = f\"../catalogs/events/yellowstone.catalog.all\""
   ]
  },
  {
   "cell_type": "markdown",
   "metadata": {},
   "source": [
    "Functions"
   ]
  },
  {
   "cell_type": "code",
   "execution_count": 3,
   "metadata": {},
   "outputs": [],
   "source": [
    "def extract_time_period_event_totals(df: pd.DataFrame, minDate: pd.Timestamp, maxDate: pd.Timestamp, freq: str = 'Y') -> np.array:\n",
    "    \"\"\"\n",
    "    \n",
    "    \"\"\"\n",
    "    \n",
    "    py = pd.date_range(minDate, maxDate, freq=freq)\n",
    "\n",
    "    totals = np.zeros(len(py)-1)\n",
    "    for i, y in enumerate(py[:-1]):\n",
    "        tmp_total = len(df[((df.Date<=py[i+1])&(df.Date>y))])\n",
    "        totals[i] = tmp_total\n",
    "        \n",
    "    return totals\n",
    "\n",
    "def plot_event_totals(totals: np.array, minDate: pd.Timestamp, maxDate: pd.Timestamp, freq: str = 'Y') -> None:\n",
    "    \"\"\"\n",
    "    \n",
    "    \"\"\"\n",
    "    mu = np.mean(totals)\n",
    "    std = np.std(totals)\n",
    "    \n",
    "    py = pd.date_range(minDate, maxDate, freq=freq)\n",
    "    py += pd.to_timedelta(52/2, 'W')  \n",
    "    \n",
    "    plt.step(py[:-1], totals, color='k')\n",
    "#     plt.plot(py[:-1], totals, 'k')\n",
    "    plt.hlines(mu, py[0], py[-2], color='r', linestyles='dashed', lw=2, label=f\"annual mean: {int(np.rint(mu))}\")\n",
    "    plt.hlines(mu+std, py[0], py[-2], color='k', linestyles='dashed', lw=1, label=f\"annual std dv: {int(np.rint(std))}\")\n",
    "    plt.hlines(mu-std, py[0], py[-2], color='k', linestyles='dashed', lw=1)\n",
    "    plt.xlabel(\"Year\")\n",
    "    plt.ylabel(\"No. of Events\")\n",
    "    plt.legend()\n",
    "    \n",
    "    \n",
    "\n",
    "    "
   ]
  },
  {
   "cell_type": "code",
   "execution_count": 4,
   "metadata": {},
   "outputs": [],
   "source": [
    "# leg = pd.read_csv(legacyCatPath, delim_whitespace=True, skiprows=[1,])\n",
    "# cur = pd.read_csv(currentCatPath, delim_whitespace=True, skiprows=[1,])\n",
    "# total = pd.concat([leg, cur])\n",
    "total = pd.read_csv(CatPath, delim_whitespace=True)"
   ]
  },
  {
   "cell_type": "markdown",
   "metadata": {},
   "source": [
    "What is the catalog total?"
   ]
  },
  {
   "cell_type": "code",
   "execution_count": 5,
   "metadata": {},
   "outputs": [
    {
     "data": {
      "text/plain": [
       "46689"
      ]
     },
     "execution_count": 5,
     "metadata": {},
     "output_type": "execute_result"
    }
   ],
   "source": [
    "totaleqs = len(total) ; totaleqs"
   ]
  },
  {
   "cell_type": "markdown",
   "metadata": {},
   "source": [
    "What is the total with at least one Magnitude value?\n",
    "Dummy cells are assinged '-9.99' if there isn't an entry for either ML or MC (or both).\n",
    "-9.99 - -9.99 = 0, therefore cells with 0 have neither an ML nor an MC."
   ]
  },
  {
   "cell_type": "code",
   "execution_count": 6,
   "metadata": {},
   "outputs": [
    {
     "data": {
      "text/plain": [
       "46090"
      ]
     },
     "execution_count": 6,
     "metadata": {},
     "output_type": "execute_result"
    }
   ],
   "source": [
    "total_quotable = total[(total.ML - total.MC) != 0]; len(total_quotable)"
   ]
  },
  {
   "cell_type": "markdown",
   "metadata": {},
   "source": [
    "What is the min, max ML or MC value for the catalog with at least one magnitude assignment per event."
   ]
  },
  {
   "cell_type": "code",
   "execution_count": 7,
   "metadata": {},
   "outputs": [
    {
     "data": {
      "text/plain": [
       "(0.01, 4.83)"
      ]
     },
     "execution_count": 7,
     "metadata": {},
     "output_type": "execute_result"
    }
   ],
   "source": [
    "ml = total_quotable[total_quotable.ML != -9.99].ML.min(), total_quotable.ML.max()\n",
    "mc = total_quotable[total_quotable.ML != -9.99].ML.min(), total_quotable.ML.max()\n",
    "np.min([ml, mc]), np.max([ml, mc])"
   ]
  },
  {
   "cell_type": "markdown",
   "metadata": {},
   "source": [
    "What is the range of dates for said catalog?"
   ]
  },
  {
   "cell_type": "code",
   "execution_count": 8,
   "metadata": {},
   "outputs": [
    {
     "data": {
      "text/plain": [
       "('1983-05-02', '2020-06-30')"
      ]
     },
     "execution_count": 8,
     "metadata": {},
     "output_type": "execute_result"
    }
   ],
   "source": [
    "total_quotable.Date.min(), total_quotable.Date.max()"
   ]
  },
  {
   "cell_type": "markdown",
   "metadata": {},
   "source": [
    "Convert the 'Date' column to Timestamps so we can iterate through them meaninfully."
   ]
  },
  {
   "cell_type": "code",
   "execution_count": 9,
   "metadata": {},
   "outputs": [],
   "source": [
    "total.Date = pd.to_datetime(total.Date)"
   ]
  },
  {
   "cell_type": "markdown",
   "metadata": {},
   "source": [
    "What are the annual totals of events for all time?\n",
    "Visualise and save the output. \n",
    "<br>\n",
    "NOTE: We want to find a period where there is no apparent increase due to increased instrumentation coverage."
   ]
  },
  {
   "cell_type": "code",
   "execution_count": 10,
   "metadata": {},
   "outputs": [
    {
     "data": {
      "image/png": "[encoded data removed]",
      "text/plain": [
       "<Figure size 432x288 with 1 Axes>"
      ]
     },
     "metadata": {
      "needs_background": "light"
     },
     "output_type": "display_data"
    }
   ],
   "source": [
    "minDate = pd.to_datetime(\"1982-01-01\") # when using pd.date_range you have to start a year before for some reason.\n",
    "maxDate = pd.to_datetime(\"2019-12-31\")\n",
    "## numpy array containing yearly event totals - time period can be changed by freq, but no less than 1 day.\n",
    "## 1 day is minimum because Date column is only informative to a given day (e.g. 2020/01/01).\n",
    "totals = extract_time_period_event_totals(total, minDate, maxDate, freq=\"Y\")\n",
    "plot_event_totals(totals, minDate, maxDate, freq='Y')\n",
    "plt.savefig(f\"../figures/all-time-annual.pdf\", transparent=True)"
   ]
  },
  {
   "cell_type": "markdown",
   "metadata": {},
   "source": [
    "What are the annual totals of events between the start of 2000 and the end of 2019?\n",
    "Visualise and save the output."
   ]
  },
  {
   "cell_type": "code",
   "execution_count": 11,
   "metadata": {},
   "outputs": [
    {
     "data": {
      "image/png": "[encoded data removed]",
      "text/plain": [
       "<Figure size 432x288 with 1 Axes>"
      ]
     },
     "metadata": {
      "needs_background": "light"
     },
     "output_type": "display_data"
    }
   ],
   "source": [
    "minDate = pd.to_datetime(\"1999-01-01\") # when using pd.date_range you have to start a year before for some reason.\n",
    "maxDate = pd.to_datetime(\"2019-12-31\")\n",
    "## numpy array containing yearly event totals - time period can be changed by freq, but no less than 1 day.\n",
    "## 1 day is minimum because Date column is only informative to a given day (e.g. 2020/01/01).\n",
    "totals = extract_time_period_event_totals(total, minDate, maxDate, freq=\"Y\")\n",
    "# plt.close()\n",
    "plot_event_totals(totals, minDate, maxDate, freq='Y')\n",
    "plt.savefig(f\"../figures/twenty-year-annual.pdf\", transparent=True)"
   ]
  },
  {
   "cell_type": "code",
   "execution_count": 12,
   "metadata": {},
   "outputs": [],
   "source": [
    "## subset events by those recorded only in 2019\n",
    "minDate, maxDate = pd.to_datetime(\"2019-01-01\"), (\"2019-12-31\")\n",
    "twtyntn = total[((total.Date<=maxDate)&(total.Date>=minDate))]"
   ]
  },
  {
   "cell_type": "markdown",
   "metadata": {},
   "source": [
    "In 2019, how many events were assinged an ML of the total that were recoreded?"
   ]
  },
  {
   "cell_type": "code",
   "execution_count": 13,
   "metadata": {},
   "outputs": [
    {
     "name": "stdout",
     "output_type": "stream",
     "text": [
      "In 2019, 486 out of 1218 events were assinged an ML.\n",
      "This equates to 39.90% of the catalog having an ML assigned in 2019.\n"
     ]
    }
   ],
   "source": [
    "withml = twtyntn[twtyntn.ML != -9.99]\n",
    "no_all, no_w_ml = len(twtyntn), len(withml)\n",
    "pct = no_w_ml/no_all * 100\n",
    "\n",
    "print(f\"In 2019, {no_w_ml} out of {no_all} events were assinged an ML.\")\n",
    "print(f\"This equates to {pct:.2f}% of the catalog having an ML assigned in 2019.\")"
   ]
  },
  {
   "cell_type": "markdown",
   "metadata": {},
   "source": [
    "And the same for MC."
   ]
  },
  {
   "cell_type": "code",
   "execution_count": 14,
   "metadata": {},
   "outputs": [
    {
     "name": "stdout",
     "output_type": "stream",
     "text": [
      "In 2019, 724 out of 1218 events were assinged an MC.\n",
      "This equates to 59.44% of the catalog having an MC assigned in 2019.\n"
     ]
    }
   ],
   "source": [
    "withmc = twtyntn[twtyntn.MC != -9.99]\n",
    "\n",
    "no_all, no_w_mc = len(twtyntn), len(withmc)\n",
    "pct = no_w_mc/no_all * 100\n",
    "\n",
    "print(f\"In 2019, {no_w_mc} out of {no_all} events were assinged an MC.\")\n",
    "print(f\"This equates to {pct:.2f}% of the catalog having an MC assigned in 2019.\")"
   ]
  },
  {
   "cell_type": "markdown",
   "metadata": {},
   "source": [
    "And how many with no magnitude assigned?"
   ]
  },
  {
   "cell_type": "code",
   "execution_count": 15,
   "metadata": {},
   "outputs": [
    {
     "name": "stdout",
     "output_type": "stream",
     "text": [
      "In 2019, 8 out of 1218 events were assinged at least one magntiude type.\n",
      "This equates to 0.66% of the catalog having neither an ML or an MC assinged in 2019.\n"
     ]
    }
   ],
   "source": [
    "nomag = twtyntn[twtyntn.MC - twtyntn.ML == 0]\n",
    "\n",
    "no_all, no_mag = len(twtyntn), len(nomag)\n",
    "pct = no_mag/no_all * 100\n",
    "\n",
    "print(f\"In 2019, {no_mag} out of {no_all} events were assinged at least one magntiude type.\")\n",
    "print(f\"This equates to {pct:.2f}% of the catalog having neither an ML or an MC assinged in 2019.\")"
   ]
  },
  {
   "cell_type": "markdown",
   "metadata": {},
   "source": [
    "And how many with both?"
   ]
  },
  {
   "cell_type": "code",
   "execution_count": 16,
   "metadata": {},
   "outputs": [
    {
     "name": "stdout",
     "output_type": "stream",
     "text": [
      "In 2019, 0 out of 1218 events were assinged an MC.\n",
      "This equates to 0.00% of the catalog having an ML and an MC assigned in 2019.\n"
     ]
    }
   ],
   "source": [
    "bothmag = twtyntn[(twtyntn.MC != -9.99) & (twtyntn.ML != -9.99)]\n",
    "no_all, both_mag = len(twtyntn), len(bothmag)\n",
    "pct = both_mag/no_all * 100\n",
    "\n",
    "print(f\"In 2019, {both_mag} out of {no_all} events were assinged an MC.\")\n",
    "print(f\"This equates to {pct:.2f}% of the catalog having an ML and an MC assigned in 2019.\")"
   ]
  },
  {
   "cell_type": "code",
   "execution_count": 22,
   "metadata": {},
   "outputs": [
    {
     "data": {
      "text/plain": [
       "38237   -3.724928\n",
       "dtype: float64"
      ]
     },
     "execution_count": 22,
     "metadata": {},
     "output_type": "execute_result"
    }
   ],
   "source": [
    "total[total.Dep==total.Dep.min()].Dmin/total[total.Dep==total.Dep.min()].Dep"
   ]
  },
  {
   "cell_type": "code",
   "execution_count": null,
   "metadata": {},
   "outputs": [],
   "source": []
  }
 ],
 "metadata": {
  "kernelspec": {
   "display_name": "Python 3",
   "language": "python",
   "name": "python3"
  },
  "language_info": {
   "codemirror_mode": {
    "name": "ipython",
    "version": 3
   },
   "file_extension": ".py",
   "mimetype": "text/x-python",
   "name": "python",
   "nbconvert_exporter": "python",
   "pygments_lexer": "ipython3",
   "version": "3.7.6"
  }
 },
 "nbformat": 4,
 "nbformat_minor": 4
}
