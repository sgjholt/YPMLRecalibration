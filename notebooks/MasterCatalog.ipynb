{
 "cells": [
  {
   "cell_type": "markdown",
   "metadata": {},
   "source": [
    "# Master Catalog\n",
    "## A notebook to merge and do some catalog stats for all events in YP"
   ]
  },
  {
   "cell_type": "code",
   "execution_count": 1,
   "metadata": {},
   "outputs": [],
   "source": [
    "import os\n",
    "import sys\n",
    "## This code block tells the notebook to find paths above it, \n",
    "# meaning modules above 'notebooks/' are now visible and can be imported.\n",
    "module_path = os.path.abspath(os.path.join('..'))\n",
    "if module_path not in sys.path:\n",
    "    sys.path.append(module_path)\n",
    "## subsequent imports    \n",
    "import numpy as np\n",
    "import pandas as pd\n",
    "import matplotlib\n",
    "import matplotlib.pyplot as plt\n",
    "\n",
    "from plotconf import matsettings"
   ]
  },
  {
   "cell_type": "markdown",
   "metadata": {},
   "source": [
    "Global variables."
   ]
  },
  {
   "cell_type": "code",
   "execution_count": 2,
   "metadata": {},
   "outputs": [],
   "source": [
    "# PDIR = \"/uufs/chpc.utah.edu/common/home/koper-group2/jholt/Yellowstone/Local_Magnitude_Study/NonParaInvRedux\"\n",
    "\n",
    "# legacyCatPath = f\"{PDIR}/catalogs/events/oldevids.yellowstone.cat\"\n",
    "# currentCatPath = f\"{PDIR}/catalogs/events/newevids.yellowstone.cat\"\n",
    "\n",
    "CatPath = f\"../catalogs/events/yellowstone.catalog.all.csv\""
   ]
  },
  {
   "cell_type": "markdown",
   "metadata": {},
   "source": [
    "Functions"
   ]
  },
  {
   "cell_type": "code",
   "execution_count": 3,
   "metadata": {},
   "outputs": [],
   "source": [
    "def extract_time_period_event_totals(df: pd.DataFrame, minDate: pd.Timestamp, maxDate: pd.Timestamp, freq: str = 'Y') -> np.array:\n",
    "    \"\"\"\n",
    "    \n",
    "    \"\"\"\n",
    "    \n",
    "    py = pd.date_range(minDate, maxDate, freq=freq)\n",
    "\n",
    "    totals = np.zeros(len(py)-1)\n",
    "    for i, y in enumerate(py[:-1]):\n",
    "        tmp_total = len(df[((df[\"DATE\"]<=py[i+1])&(df[\"DATE\"]>y))])\n",
    "        totals[i] = tmp_total\n",
    "        \n",
    "    return totals\n",
    "\n",
    "def plot_event_totals(totals: np.array, minDate: pd.Timestamp, maxDate: pd.Timestamp, freq: str = 'Y') -> None:\n",
    "    \"\"\"\n",
    "    \n",
    "    \"\"\"\n",
    "    mu = np.mean(totals)\n",
    "    std = np.std(totals)\n",
    "    \n",
    "    py = pd.date_range(minDate, maxDate, freq=freq)\n",
    "    py += pd.to_timedelta(52/2, 'W')  \n",
    "    \n",
    "    plt.step(py[:-1], totals, color='k')\n",
    "#     plt.plot(py[:-1], totals, 'k')\n",
    "    plt.hlines(mu, py[0], py[-2], color='r', linestyles='dashed', lw=2, label=f\"annual mean: {int(np.rint(mu))}\")\n",
    "    plt.hlines(mu+std, py[0], py[-2], color='k', linestyles='dashed', lw=1, label=f\"annual std dv: {int(np.rint(std))}\")\n",
    "    plt.hlines(mu-std, py[0], py[-2], color='k', linestyles='dashed', lw=1)\n",
    "    plt.xlabel(\"Year\")\n",
    "    plt.ylabel(\"No. of Events\")\n",
    "    plt.legend()\n",
    "    \n",
    "    \n",
    "\n",
    "    "
   ]
  },
  {
   "cell_type": "code",
   "execution_count": 4,
   "metadata": {},
   "outputs": [],
   "source": [
    "# leg = pd.read_csv(legacyCatPath, delim_whitespace=True, skiprows=[1,])\n",
    "# cur = pd.read_csv(currentCatPath, delim_whitespace=True, skiprows=[1,])\n",
    "# total = pd.concat([leg, cur])\n",
    "total = pd.read_csv(CatPath)"
   ]
  },
  {
   "cell_type": "markdown",
   "metadata": {},
   "source": [
    "What is the catalog total?"
   ]
  },
  {
   "cell_type": "code",
   "execution_count": 5,
   "metadata": {},
   "outputs": [
    {
     "data": {
      "text/plain": [
       "47875"
      ]
     },
     "execution_count": 5,
     "metadata": {},
     "output_type": "execute_result"
    }
   ],
   "source": [
    "totaleqs = len(total) ; totaleqs"
   ]
  },
  {
   "cell_type": "markdown",
   "metadata": {},
   "source": [
    "What is the total with at least one Magnitude value?\n",
    "Dummy cells are assinged '-9.99' if there isn't an entry for either ML or MC (or both).\n",
    "-9.99 - -9.99 = 0, therefore cells with 0 have neither an ML nor an MC."
   ]
  },
  {
   "cell_type": "code",
   "execution_count": 6,
   "metadata": {},
   "outputs": [
    {
     "data": {
      "text/plain": [
       "47167"
      ]
     },
     "execution_count": 6,
     "metadata": {},
     "output_type": "execute_result"
    }
   ],
   "source": [
    "total_quotable = total[(total.ML - total.MC) != 0]; len(total_quotable)"
   ]
  },
  {
   "cell_type": "markdown",
   "metadata": {},
   "source": [
    "What is the min, max ML or MC value for the catalog with at least one magnitude assignment per event."
   ]
  },
  {
   "cell_type": "code",
   "execution_count": 7,
   "metadata": {},
   "outputs": [
    {
     "name": "stdout",
     "output_type": "stream",
     "text": [
      "0.01 < MC < 4.83\n",
      "0.01 < Ml < 4.83\n"
     ]
    }
   ],
   "source": [
    "ml = total_quotable[total_quotable.ML != -9.99].ML.min(), total_quotable.ML.max()\n",
    "mc = total_quotable[total_quotable.ML != -9.99].ML.min(), total_quotable.ML.max()\n",
    "np.min([ml, mc]), np.max([ml, mc])\n",
    "print(f\"{np.min(mc)} < MC < {np.max(mc)}\")\n",
    "print(f\"{np.min(ml)} < Ml < {np.max(ml)}\")"
   ]
  },
  {
   "cell_type": "markdown",
   "metadata": {},
   "source": [
    "What is the range of dates for said catalog?"
   ]
  },
  {
   "cell_type": "code",
   "execution_count": 8,
   "metadata": {},
   "outputs": [],
   "source": [
    "mnd, mxd = total_quotable.DATE.min(), total_quotable.DATE.max()"
   ]
  },
  {
   "cell_type": "markdown",
   "metadata": {},
   "source": [
    "Convert the 'Date' column to Timestamps so we can iterate through them meaninfully."
   ]
  },
  {
   "cell_type": "code",
   "execution_count": 9,
   "metadata": {},
   "outputs": [],
   "source": [
    "total[\"DATE\"] = pd.to_datetime(total[\"DATE\"])"
   ]
  },
  {
   "cell_type": "markdown",
   "metadata": {},
   "source": [
    "What are the annual totals of events for all time?\n",
    "Visualise and save the output. \n",
    "<br>\n",
    "NOTE: We want to find a period where there is no apparent increase due to increased instrumentation coverage."
   ]
  },
  {
   "cell_type": "code",
   "execution_count": 11,
   "metadata": {},
   "outputs": [
    {
     "data": {
      "image/png": "[encoded data removed]",
      "text/plain": [
       "<Figure size 640x480 with 1 Axes>"
      ]
     },
     "metadata": {},
     "output_type": "display_data"
    }
   ],
   "source": [
    "minDate = pd.to_datetime(mnd) # when using pd.date_range you have to start a year before for some reason.\n",
    "maxDate = pd.to_datetime(mxd)\n",
    "## numpy array containing yearly event totals - time period can be changed by freq, but no less than 1 day.\n",
    "## 1 day is minimum because Date column is only informative to a given day (e.g. 2020/01/01).\n",
    "totals = extract_time_period_event_totals(total, minDate, maxDate, freq=\"Y\")\n",
    "plot_event_totals(totals, minDate, maxDate, freq='Y')\n",
    "plt.show()\n",
    "plt.savefig(f\"../figures/all-time-annual.pdf\", transparent=True)"
   ]
  },
  {
   "cell_type": "markdown",
   "metadata": {},
   "source": [
    "What are the annual totals of events between the start of 2000 and the end of 2019?\n",
    "Visualise and save the output."
   ]
  },
  {
   "cell_type": "code",
   "execution_count": 12,
   "metadata": {},
   "outputs": [
    {
     "data": {
      "image/png": "[encoded data removed]",
      "text/plain": [
       "<Figure size 640x480 with 1 Axes>"
      ]
     },
     "metadata": {},
     "output_type": "display_data"
    }
   ],
   "source": [
    "minDate = pd.to_datetime(\"1999-01-01\") # when using pd.date_range you have to start a year before for some reason.\n",
    "maxDate = pd.to_datetime(mxd)\n",
    "## numpy array containing yearly event totals - time period can be changed by freq, but no less than 1 day.\n",
    "## 1 day is minimum because Date column is only informative to a given day (e.g. 2020/01/01).\n",
    "totals = extract_time_period_event_totals(total, minDate, maxDate, freq=\"Y\")\n",
    "# plt.close()\n",
    "plot_event_totals(totals, minDate, maxDate, freq='Y')\n",
    "plt.show()\n",
    "plt.savefig(f\"../figures/twenty-year-annual.pdf\", transparent=True)"
   ]
  },
  {
   "cell_type": "code",
   "execution_count": 14,
   "metadata": {},
   "outputs": [],
   "source": [
    "## subset events by those recorded only in 2019\n",
    "minDate, maxDate = pd.to_datetime(\"2020-01-01\"), (\"2020-12-31\")\n",
    "twtyntn = total[((total[\"DATE\"]<=maxDate)&(total[\"DATE\"]>=minDate))]"
   ]
  },
  {
   "cell_type": "markdown",
   "metadata": {},
   "source": [
    "In 2019, how many events were assinged an ML of the total that were recoreded?"
   ]
  },
  {
   "cell_type": "code",
   "execution_count": 17,
   "metadata": {},
   "outputs": [
    {
     "name": "stdout",
     "output_type": "stream",
     "text": [
      "In 2020, 517 out of 1722 events were assinged an ML.\n",
      "This equates to 30.02% of the catalog having an ML assigned in 2020.\n"
     ]
    }
   ],
   "source": [
    "withml = twtyntn[twtyntn.ML != -9.99]\n",
    "no_all, no_w_ml = len(twtyntn), len(withml)\n",
    "pct = no_w_ml/no_all * 100\n",
    "\n",
    "print(f\"In 2020, {no_w_ml} out of {no_all} events were assinged an ML.\")\n",
    "print(f\"This equates to {pct:.2f}% of the catalog having an ML assigned in 2020.\")"
   ]
  },
  {
   "cell_type": "markdown",
   "metadata": {},
   "source": [
    "And the same for MC."
   ]
  },
  {
   "cell_type": "code",
   "execution_count": 18,
   "metadata": {},
   "outputs": [
    {
     "name": "stdout",
     "output_type": "stream",
     "text": [
      "In 2020, 1686 out of 1722 events were assinged an MC.\n",
      "This equates to 97.91% of the catalog having an MC assigned in 2020.\n"
     ]
    }
   ],
   "source": [
    "withmc = twtyntn[twtyntn.MC != -9.99]\n",
    "\n",
    "no_all, no_w_mc = len(twtyntn), len(withmc)\n",
    "pct = no_w_mc/no_all * 100\n",
    "\n",
    "print(f\"In 2020, {no_w_mc} out of {no_all} events were assinged an MC.\")\n",
    "print(f\"This equates to {pct:.2f}% of the catalog having an MC assigned in 2020.\")"
   ]
  },
  {
   "cell_type": "markdown",
   "metadata": {},
   "source": [
    "And how many with no magnitude assigned?"
   ]
  },
  {
   "cell_type": "code",
   "execution_count": 21,
   "metadata": {},
   "outputs": [
    {
     "name": "stdout",
     "output_type": "stream",
     "text": [
      "In 2020, 39 out of 1722 events were not assigned at least one magntiude type.\n",
      "This equates to 2.26% of the catalog having neither an ML or an MC assinged in 2020.\n"
     ]
    }
   ],
   "source": [
    "nomag = twtyntn[twtyntn.MC - twtyntn.ML == 0]\n",
    "\n",
    "no_all, no_mag = len(twtyntn), len(nomag)\n",
    "pct = no_mag/no_all * 100\n",
    "\n",
    "print(f\"In 2020, {no_mag} out of {no_all} events were not assigned at least one magntiude type.\")\n",
    "print(f\"This equates to {pct:.2f}% of the catalog having neither an ML or an MC assinged in 2020.\")"
   ]
  },
  {
   "cell_type": "markdown",
   "metadata": {},
   "source": [
    "And how many with both?"
   ]
  },
  {
   "cell_type": "code",
   "execution_count": 22,
   "metadata": {},
   "outputs": [
    {
     "name": "stdout",
     "output_type": "stream",
     "text": [
      "In 2020, 514 out of 1722 events were assinged an MC.\n",
      "This equates to 29.85% of the catalog having an ML and an MC assigned in 2020.\n"
     ]
    }
   ],
   "source": [
    "bothmag = twtyntn[(twtyntn.MC != -9.99) & (twtyntn.ML != -9.99)]\n",
    "no_all, both_mag = len(twtyntn), len(bothmag)\n",
    "pct = both_mag/no_all * 100\n",
    "\n",
    "print(f\"In 2020, {both_mag} out of {no_all} events were assinged an MC.\")\n",
    "print(f\"This equates to {pct:.2f}% of the catalog having an ML and an MC assigned in 2020.\")"
   ]
  },
  {
   "cell_type": "code",
   "execution_count": null,
   "metadata": {},
   "outputs": [],
   "source": []
  },
  {
   "cell_type": "code",
   "execution_count": null,
   "metadata": {},
   "outputs": [],
   "source": []
  },
  {
   "cell_type": "code",
   "execution_count": 23,
   "metadata": {},
   "outputs": [
    {
     "name": "stdout",
     "output_type": "stream",
     "text": [
      "47263 47875 98.72167101827675\n"
     ]
    }
   ],
   "source": [
    "hasMC = total[\"MC\"] != -9.99\n",
    "hasML = total[\"ML\"] != -9.99\n",
    "\n",
    "tl = len(total) - len(total[(~hasMC & ~hasML)])\n",
    "\n",
    "print(tl, len(total), tl/len(total)*100)"
   ]
  },
  {
   "cell_type": "code",
   "execution_count": 24,
   "metadata": {},
   "outputs": [
    {
     "name": "stdout",
     "output_type": "stream",
     "text": [
      "47145 out of 47263 with MC\n",
      "98.5 % with MC\n"
     ]
    }
   ],
   "source": [
    "lmc = len(total[hasMC])\n",
    "print(f\"{lmc} out of {tl} with MC\")\n",
    "pct = (len(total[hasMC]) / len(total)) * 100\n",
    "print(f\"{pct:.1f} % with MC\")"
   ]
  },
  {
   "cell_type": "code",
   "execution_count": 25,
   "metadata": {},
   "outputs": [
    {
     "name": "stdout",
     "output_type": "stream",
     "text": [
      "7999 out of 47263 with MC\n",
      "16.7 % with ML\n"
     ]
    }
   ],
   "source": [
    "lml = len(total[hasML])\n",
    "print(f\"{lml} out of {tl} with MC\")\n",
    "pct = (len(total[hasML]) / len(total)) * 100\n",
    "print(f\"{pct:.1f} % with ML\")"
   ]
  },
  {
   "cell_type": "code",
   "execution_count": null,
   "metadata": {},
   "outputs": [],
   "source": []
  },
  {
   "cell_type": "code",
   "execution_count": null,
   "metadata": {},
   "outputs": [],
   "source": []
  },
  {
   "cell_type": "code",
   "execution_count": null,
   "metadata": {},
   "outputs": [],
   "source": []
  },
  {
   "cell_type": "code",
   "execution_count": null,
   "metadata": {},
   "outputs": [],
   "source": []
  },
  {
   "cell_type": "code",
   "execution_count": null,
   "metadata": {},
   "outputs": [],
   "source": []
  },
  {
   "cell_type": "code",
   "execution_count": null,
   "metadata": {},
   "outputs": [],
   "source": []
  },
  {
   "cell_type": "code",
   "execution_count": null,
   "metadata": {},
   "outputs": [],
   "source": []
  }
 ],
 "metadata": {
  "kernelspec": {
   "display_name": "Python 3",
   "language": "python",
   "name": "python3"
  },
  "language_info": {
   "codemirror_mode": {
    "name": "ipython",
    "version": 3
   },
   "file_extension": ".py",
   "mimetype": "text/x-python",
   "name": "python",
   "nbconvert_exporter": "python",
   "pygments_lexer": "ipython3",
   "version": "3.8.10"
  }
 },
 "nbformat": 4,
 "nbformat_minor": 4
}
