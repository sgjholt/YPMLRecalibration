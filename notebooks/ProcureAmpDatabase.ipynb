{
 "cells": [
  {
   "cell_type": "markdown",
   "metadata": {},
   "source": [
    "**Import Modules**"
   ]
  },
  {
   "cell_type": "code",
   "execution_count": 1,
   "metadata": {},
   "outputs": [
    {
     "name": "stdout",
     "output_type": "stream",
     "text": [
      "using numpy v1.20.2.\n",
      "using pandas v1.2.4.\n"
     ]
    }
   ],
   "source": [
    "import os\n",
    "import sys\n",
    "## make paths above 'notebooks/' visible for local imports.\n",
    "module_path = os.path.abspath(os.path.join('..'))\n",
    "if module_path not in sys.path:\n",
    "    sys.path.append(module_path)\n",
    "    \n",
    "import numpy as np\n",
    "import pandas as pd \n",
    "from typing import Union\n",
    "print(f\"using numpy v{np.__version__}.\")\n",
    "print(f\"using pandas v{pd.__version__}.\")\n",
    "\n",
    "from catops.catops.utils import *\n",
    "# from catops.catops.cleanEvs import *\n",
    "from catops.catops.cleanamps import *\n",
    "from catops.catops.plotting import *\n",
    "import matplotlib.pyplot as plt\n",
    "from plotconf import matsettings\n",
    "\n",
    "\n"
   ]
  },
  {
   "cell_type": "markdown",
   "metadata": {},
   "source": [
    "## ProcureAmpDatabase\n",
    "### A notebook to combine, clean and prepare Yellowstone p-p amplitude catalogs.\n",
    "The data pipeline first requires merging two csv files containing event information from pre- and post-2012 UUSS yellowstone earthquakes. The UUSS migrated their database in 2012 causing some issues when pulling pre-2012 data. It requires the data to be pulled separately for the pre- and post-migration timeframes. Monique Holt (Ph.D. candidate @ UUSS) created a shell script to query the UUSS's internal Oracle (SQL) databases for the amplitude-level information. \n",
    " Here, we use the original pre-2012/09/30 legacy csv file (created in May, 2019) and a new (2012/10/01 to 2020/06/01) file pulled in Dec, 2020. <br>\n",
    " \n",
    "\n",
    "There are several phases required to clean this table of data to the standards that are outlined in in Holt et al. (in prep) and Chapter 3 of my Ph.D. thesis [(Holt, 2019)](https://livrepository.liverpool.ac.uk/3064483/1/200880943_Sep2019.pdf). Here and breifly, the phases are summarised as; (1) cleaning table formatting (2) apply simple amplitude screening, (3) apply advanced amplitude screening. In between each phase we inspect the catalog and also carefully scrutinise differences with sanity checks. The advanced screening will require close attention as constants might need to change if the initial input catalog is changed. We also need to prepare a database of p-p amplitudes for the Moment Magnitude ($M_w$) catalog. The amplitudes from events that are assingned $M_w$ have trustworthy magnitudes as those is used to\n",
    "\n",
    "\n",
    "**A brief note on legacy data and the new data compatibility:** <br>\n",
    "The base catalog used to pull amplitudes is in /utahnet/Eqcatalogs/YELLOWSTONEeq.catalog on the UUSS servers. This catalog has all depths relative to sea level for the legacy and current-format data, the legacy data were relocated using the same velocity model as the current-format data (Pechmann, *personal comms.*). This means that **to correct to the surface datum in Yellowstone**, you simply **add 2 km to the all of the depths for all of the events**."
   ]
  },
  {
   "cell_type": "markdown",
   "metadata": {},
   "source": [
    "Global variables."
   ]
  },
  {
   "cell_type": "code",
   "execution_count": 2,
   "metadata": {},
   "outputs": [],
   "source": [
    "# PDIR = \"/uufs/chpc.utah.edu/common/home/koper-group2/jholt/Yellowstone/Local_Magnitude_Study/Non_Parametric_Inversion\"\n",
    "PDIR = \"..\"\n",
    "## paths\n",
    "legacyFormatDataPath=f\"{PDIR}/catalogs/amplitudes/amps.Yellowstone.legacydata.csv\"\n",
    "## to 2020/06/01\n",
    "currentFormatDataPath=f\"{PDIR}/catalogs/amplitudes/amps.Y2012G.csv\"\n",
    "## MT Mw Catalog\n",
    "mtmwPath = f\"{PDIR}/catalogs/events/MTCAT.csv\"\n",
    "## dataframes\n",
    "legacy=pd.read_csv(legacyFormatDataPath)\n",
    "current=pd.read_csv(currentFormatDataPath)\n",
    "mtmw=pd.read_csv(mtmwPath)"
   ]
  },
  {
   "cell_type": "markdown",
   "metadata": {},
   "source": [
    "Playground to test functions .\n"
   ]
  },
  {
   "cell_type": "code",
   "execution_count": 3,
   "metadata": {},
   "outputs": [],
   "source": [
    "# nothing here yet ..."
   ]
  },
  {
   "cell_type": "markdown",
   "metadata": {},
   "source": [
    "Merge legacy- and current-format data tables and clear basic formatting issues.The basic issues are explained in each sub-function called by clear_issues."
   ]
  },
  {
   "cell_type": "code",
   "execution_count": 4,
   "metadata": {},
   "outputs": [
    {
     "name": "stderr",
     "output_type": "stream",
     "text": [
      "/Users/james/Documents/James/UUSS/Yellowstone/NonParaInvRedux/catops/catops/cleanamps.py:103: FutureWarning: Index.__and__ operating as a set operation is deprecated, in the future this will be a logical operation matching Series.__and__.  Use index.intersection(other) instead\n",
      "  df.drop(((df.loc[df['SnrE'] < SNR].index)&(df.loc[df['SnrN'] < SNR].index)),\n",
      "/opt/miniconda3/envs/YPML/lib/python3.8/site-packages/obspy/core/inventory/network.py:324: UserWarning: Found more than one matching channel metadata. Returning first.\n",
      "  warnings.warn(msg)\n"
     ]
    },
    {
     "name": "stdout",
     "output_type": "stream",
     "text": [
      "The catalog contains 31545 amplitudes from 7684 earthquakes.\n"
     ]
    }
   ],
   "source": [
    "## be mindful of the order that these functions are used to clean the dataframe\n",
    "cleaning_funcs = (fill_legacy_snr, convert_cm_to_mm, remove_snr_below_thresh,\n",
    "                  clean_comp_cols, remove_nan_amp_rows, create_mean_half_pp_amp_col, \n",
    "                  reduce_to_single_instrument_per_event, create_catalog_magnitude_col, \n",
    "                  adjust_depth_to_average_elevation, recompute_rhyp, create_focal_dep_dmin_ratio_col, \n",
    "                  add_focal_depth_quality_col, remove_mixed_station_meta_rows)\n",
    "\n",
    "total = concat_dataframes(legacy, current)\n",
    "\n",
    "# clean the dataframe \n",
    "clear_issues(total, cleaning_funcs); \n",
    "\n",
    "total_backup = total.copy(deep=True)\n",
    "\n",
    "print_catalog_stats(total)"
   ]
  },
  {
   "cell_type": "markdown",
   "metadata": {},
   "source": [
    "## In this phase we can begin our initial screening of amplitudes. <br>\n",
    "We apply the following rules for p-p amplitudes: <br>\n",
    "1. Hypocentral Distance ($R_{hyp}$) $\\leq$ 180 km - done\n",
    "2. Amplitudes must come from events with a good focal-depth constraint if they are recorded $R_{epi}$<50 km \n",
    "3. Difference between N-S and E-W log10(p-p) must be < 4 standard deviations\n",
    "4. Amplitudes only from events that have at least three recorded at unique locations \n"
   ]
  },
  {
   "cell_type": "markdown",
   "metadata": {},
   "source": [
    "## 1. Hypocentral distance screening\n",
    "First, inspect the magnitude-distance distribution on our format 'clean' catalog."
   ]
  },
  {
   "cell_type": "code",
   "execution_count": 5,
   "metadata": {
    "scrolled": false
   },
   "outputs": [
    {
     "name": "stdout",
     "output_type": "stream",
     "text": [
      "saved ../figures/initial-mag-distance-amp-distribution-no-filters.pdf\n"
     ]
    }
   ],
   "source": [
    "save_str = \"../figures/initial-mag-distance-amp-distribution-no-filters.pdf\"\n",
    "quick_inspect_magnitude_distance(total, save=save_str)\n"
   ]
  },
  {
   "cell_type": "markdown",
   "metadata": {},
   "source": [
    "## Some expert judgement applies...\n",
    "We utilise our knowledge of station distribution inside and outside Yellowstone to pick this distance. Only 4 stations on the fringes of this range have highly repeating paths, but we have station corrections (that we mostly trust) for all of them.\n",
    "Therefore, we pick $R_{hyp}$=180 km based on this understanding and the fact that beyond that distance the mag-distance distribution becomes very narrow.\n",
    "We also wanted to make sure that we had a big enough distance range to adequately estimate $M_L$ for the larger (M>3) events which tend to be better recorded at farther distances. "
   ]
  },
  {
   "cell_type": "code",
   "execution_count": 6,
   "metadata": {
    "scrolled": false
   },
   "outputs": [
    {
     "name": "stdout",
     "output_type": "stream",
     "text": [
      "saved ../figures/180km-mag-distance-amp-distribution-distance-filter-only.pdf\n",
      "The catalog contains 30368 amplitudes from 7673 earthquakes.\n"
     ]
    }
   ],
   "source": [
    "total = total[total.Rhyp <= 180]\n",
    "save_str = \"../figures/180km-mag-distance-amp-distribution-distance-filter-only.pdf\"\n",
    "quick_inspect_magnitude_distance(total, save=save_str)\n",
    "print_catalog_stats(total)\n"
   ]
  },
  {
   "cell_type": "markdown",
   "metadata": {},
   "source": [
    "## 2. Remove amplitudes recorded $R_{epi}$<50 km for events with poor focal depths"
   ]
  },
  {
   "cell_type": "code",
   "execution_count": 7,
   "metadata": {},
   "outputs": [],
   "source": [
    "total = remove_near_amps_w_bad_focal_dep(total)"
   ]
  },
  {
   "cell_type": "code",
   "execution_count": 8,
   "metadata": {},
   "outputs": [
    {
     "name": "stdout",
     "output_type": "stream",
     "text": [
      "saved ../figures/180km-mag-distance-amp-distribution+focal-depth-constraint.pdf\n",
      "The catalog contains 26174 amplitudes from 6599 earthquakes.\n"
     ]
    }
   ],
   "source": [
    "save_str = \"../figures/180km-mag-distance-amp-distribution+focal-depth-constraint.pdf\"\n",
    "quick_inspect_magnitude_distance(total, save=save_str)\n",
    "print_catalog_stats(total)\n"
   ]
  },
  {
   "cell_type": "markdown",
   "metadata": {},
   "source": [
    "## 3. Difference between N-S and E-W $log_{10}$[p-p] must be < 4 standard deviations"
   ]
  },
  {
   "cell_type": "markdown",
   "metadata": {},
   "source": [
    "In this phase, we inspect the amplitudes to look for other potential data errors outside of our chosen criteria. We note that there are some outlying data points where the difference between N-S and E-W $log_{10}$[p-p] ($\\Delta$ $log_{10}$[p-p]) is large at some stations. It looks like 4 standard deviations from the mean is good justification for removing outliers. It looks well beyond the nice normal distribution the bulk $\\Delta$ $log_{10}$[p-p] make. Use this value to remove outlier amplitudes."
   ]
  },
  {
   "cell_type": "code",
   "execution_count": 9,
   "metadata": {},
   "outputs": [],
   "source": [
    "quick_inspect_amplitudes(total['AmpE'].apply(np.log10).values, \n",
    "                         total['AmpN'].apply(np.log10).values, \n",
    "                         C=total['halfAmpH'].apply(np.log10).values, \n",
    "                         s=4)"
   ]
  },
  {
   "cell_type": "markdown",
   "metadata": {},
   "source": [
    "Functions that clean data but require data inspection for guidance. "
   ]
  },
  {
   "cell_type": "code",
   "execution_count": 10,
   "metadata": {},
   "outputs": [],
   "source": [
    "total_cut = cut_outlier_amps_on_difference(total, 0.77)"
   ]
  },
  {
   "cell_type": "markdown",
   "metadata": {},
   "source": [
    "Looks like 4 standard deviations did the trick!"
   ]
  },
  {
   "cell_type": "code",
   "execution_count": 11,
   "metadata": {},
   "outputs": [],
   "source": [
    "quick_inspect_amplitudes(total_cut['AmpE'].apply(np.log10).values, \n",
    "                         total_cut['AmpN'].apply(np.log10).values, \n",
    "                         C=total_cut['halfAmpH'].apply(np.log10).values, \n",
    "                         s=4)"
   ]
  },
  {
   "cell_type": "markdown",
   "metadata": {},
   "source": [
    "What's the difference?"
   ]
  },
  {
   "cell_type": "code",
   "execution_count": 12,
   "metadata": {},
   "outputs": [
    {
     "name": "stdout",
     "output_type": "stream",
     "text": [
      "removed 58 out of 26174\n"
     ]
    }
   ],
   "source": [
    "diff = dataframe_difference(total, total_cut)[['Evid', 'Net', 'Sta', 'AmpE', 'AmpN']]\n",
    "print(f\"removed {len(diff)} out of {len(total)}\")\n",
    "total = total_cut # assign total_cut to total so we can continue as before"
   ]
  },
  {
   "cell_type": "code",
   "execution_count": 13,
   "metadata": {
    "scrolled": false
   },
   "outputs": [
    {
     "name": "stdout",
     "output_type": "stream",
     "text": [
      "saved ../figures/180km-mag-distance-amp-distribution+focal-depth-constraint+std-dv-cut.pdf\n",
      "The catalog contains 26116 amplitudes from 6598 earthquakes.\n"
     ]
    }
   ],
   "source": [
    "save_str = \"../figures/180km-mag-distance-amp-distribution+focal-depth-constraint+std-dv-cut.pdf\"\n",
    "quick_inspect_magnitude_distance(total, save=save_str)\n",
    "print_catalog_stats(total)"
   ]
  },
  {
   "cell_type": "markdown",
   "metadata": {},
   "source": [
    "## 4. Amplitudes only from events that have at least three from unique stations/sites"
   ]
  },
  {
   "cell_type": "code",
   "execution_count": 14,
   "metadata": {},
   "outputs": [
    {
     "name": "stdout",
     "output_type": "stream",
     "text": [
      "saved ../figures/180km-mag-distance-amp-distribution+focal-depth-constraint+std-dv-cut-min-event-threshold.pdf\n",
      "The catalog contains 25743 amplitudes from 6225 earthquakes.\n"
     ]
    }
   ],
   "source": [
    "total = cut_events_below_min_amp_count_thresh(total)\n",
    "save_str = \"../figures/180km-mag-distance-amp-distribution+focal-depth-constraint+std-dv-cut-min-event-threshold.pdf\"\n",
    "quick_inspect_magnitude_distance(total, save=save_str)\n",
    "print_catalog_stats(total)"
   ]
  },
  {
   "cell_type": "markdown",
   "metadata": {},
   "source": [
    "Now that the p-p amplitudes are 'clean' we have a set of candidate events with the best quality data to choose from. This catalog is now ready to be balanced geographically, so we don't overload any ray paths. We have to do this because of the clustered and 'swarmy' nature of the Yellowstone events. We export the clean catalog of amplitudes and a catalog of just the events and locations to help us in the next phase. "
   ]
  },
  {
   "cell_type": "code",
   "execution_count": 15,
   "metadata": {},
   "outputs": [],
   "source": [
    "## save quality amplitudes\n",
    "total.to_csv(f\"{PDIR}/catalogs/amplitudes/yellowstone.amps.clean.csv\", index=False)\n"
   ]
  },
  {
   "cell_type": "code",
   "execution_count": 16,
   "metadata": {},
   "outputs": [],
   "source": [
    "## save catalog of candidate events for geographic balancing \n",
    "candid_cat = total.drop_duplicates(\"Evid\").reset_index(drop=True)"
   ]
  },
  {
   "cell_type": "code",
   "execution_count": 17,
   "metadata": {},
   "outputs": [],
   "source": [
    "count = total.groupby(\"Evid\").size()\n",
    "candid_cat.loc[candid_cat[\"Evid\"] == count.index, \"Namps\"] = count.values\n",
    "candid_cat[[\"Evid\", \"EqLon\", \"EqLat\", \"EqDep\", \"CatMag\", \"Namps\"]].to_csv(f\"{PDIR}/catalogs/events/yellowstone.events.clean.csv\", index=False)\n"
   ]
  },
  {
   "cell_type": "code",
   "execution_count": 21,
   "metadata": {},
   "outputs": [
    {
     "data": {
      "image/png": "[encoded data removed]",
      "text/plain": [
       "<Figure size 640x480 with 1 Axes>"
      ]
     },
     "metadata": {},
     "output_type": "display_data"
    }
   ],
   "source": [
    "def check_hypocentral_distances(df, repi_max=200, dep_max=25):\n",
    "\n",
    "    repi = np.arange(0, repi_max+50, 50)\n",
    "    dep = np.array([np.arange(0, dep_max) for _ in repi])\n",
    "    rhyps = np.sqrt(dep.T**2 + repi**2)\n",
    "\n",
    "    for rhyp in rhyps:\n",
    "        plt.plot(repi, rhyp, 'r--')\n",
    "\n",
    "    plt.scatter(df[\"Repi\"], df[\"Rhyp\"], c=df['EqDep'])\n",
    "    plt.xlabel(\"Repi\")\n",
    "    plt.ylabel(\"Rhyp\")\n",
    "    plt.gca().invert_yaxis()\n",
    "    plt.show()\n",
    "    \n",
    "check_hypocentral_distances(total.copy(), dep_max=20)"
   ]
  },
  {
   "cell_type": "code",
   "execution_count": null,
   "metadata": {},
   "outputs": [],
   "source": []
  }
 ],
 "metadata": {
  "kernelspec": {
   "display_name": "Python 3",
   "language": "python",
   "name": "python3"
  },
  "language_info": {
   "codemirror_mode": {
    "name": "ipython",
    "version": 3
   },
   "file_extension": ".py",
   "mimetype": "text/x-python",
   "name": "python",
   "nbconvert_exporter": "python",
   "pygments_lexer": "ipython3",
   "version": "3.8.10"
  }
 },
 "nbformat": 4,
 "nbformat_minor": 4
}
