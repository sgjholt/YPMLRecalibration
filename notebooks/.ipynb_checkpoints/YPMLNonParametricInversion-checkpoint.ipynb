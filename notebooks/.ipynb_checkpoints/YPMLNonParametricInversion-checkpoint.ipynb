{
 "cells": [
  {
   "cell_type": "markdown",
   "metadata": {},
   "source": [
    "**Import modules and set paths.**"
   ]
  },
  {
   "cell_type": "code",
   "execution_count": 1,
   "metadata": {},
   "outputs": [
    {
     "name": "stdout",
     "output_type": "stream",
     "text": [
      "using numpy v1.19.4.\n",
      "using pandas v1.1.5.\n"
     ]
    },
    {
     "name": "stderr",
     "output_type": "stream",
     "text": [
      "/opt/anaconda3/envs/YPML/lib/python3.8/_collections_abc.py:832: MatplotlibDeprecationWarning: Support for setting the 'text.latex.preamble' or 'pgf.preamble' rcParam to a list of strings is deprecated since 3.3 and will be removed two minor releases later; set it to a single string instead.\n",
      "  self[key] = other[key]\n"
     ]
    }
   ],
   "source": [
    "import os\n",
    "import sys\n",
    "## make paths above 'notebooks/' visible for local imports.\n",
    "module_path = os.path.abspath(os.path.join('..'))\n",
    "if module_path not in sys.path:\n",
    "    sys.path.append(module_path)\n",
    "    \n",
    "import numpy as np\n",
    "import pandas as pd \n",
    "from scipy.sparse import coo_matrix\n",
    "# from scipy.linalg import lstsq\n",
    "print(f\"using numpy v{np.__version__}.\")\n",
    "print(f\"using pandas v{pd.__version__}.\")\n",
    "\n",
    "import matplotlib\n",
    "import matplotlib.pyplot as plt\n",
    "\n",
    "from ipywidgets import interact\n",
    "\n",
    "from lininvbox.lininvbox.equation import Term\n",
    "# from lininvbox.lininvbox.basetypes import DesignMatrix, DataArray \n",
    "from lininvbox.lininvbox.constructors import *\n",
    "from lininvbox.lininvbox.operations import *\n",
    "from lininvbox.lininvbox.inversion import Inversion\n",
    "from lininvbox.lininvbox.constraints import *\n",
    "from lininvbox.lininvbox.regularisation import *\n",
    "from magscales.magscales import Richter1958\n",
    "from plotconf import matsettings"
   ]
  },
  {
   "cell_type": "markdown",
   "metadata": {},
   "source": [
    "## Yellowstone National Park $M_L$ Non-Paramatric Inversion\n",
    "### A notebook to perform a non-parametric inversion to recover $M_L$, distance and station corrections using earthquakes from Yellowstone Nation Park.\n",
    "\n"
   ]
  },
  {
   "cell_type": "code",
   "execution_count": 2,
   "metadata": {},
   "outputs": [],
   "source": [
    "PDIR = \"..\"\n",
    "for_inv = pd.read_csv(f\"{PDIR}/catalogs/amplitudes/yellowstone.amps.clean.geobalanced.csv\")\n",
    "sims = pd.read_csv(f\"{PDIR}/miscmeta/simulations/data/sim_out.csv\")"
   ]
  },
  {
   "cell_type": "code",
   "execution_count": 3,
   "metadata": {},
   "outputs": [],
   "source": [
    "interp_nodes = np.array([1, 10, 30, 50, 100, 180])\n",
    "inc = np.geomspace(4, 180, 20)\n",
    "dr = 5\n",
    "inc = np.arange(20, 180+dr, dr)\n",
    "interp_nodes = np.round(np.append([6,9,12,15,18,21], inc[inc>=25]), 1)\n",
    "# interp_nodes=inc\n",
    "interp_values = np.sort(for_inv.Rhyp.values)\n",
    "\n",
    "mwcat = pd.read_csv(\"../catalogs/events/MTCAT.csv\")\n",
    "mwcat[\"Evid\"] = mwcat[\"Evid\"].astype(str)\n",
    "MLcons = dict(mwcat[[\"Evid\", \"MwPref\"]].values)\n"
   ]
  },
  {
   "cell_type": "code",
   "execution_count": 4,
   "metadata": {},
   "outputs": [],
   "source": [
    "def vis_inv_output(inv):\n",
    "\n",
    "    terms = inv.m.term_map.values.keys()\n",
    "    X, Y = [],[]\n",
    "    for term in terms:\n",
    "        tmp = inv.m.term_map.get_term(term)\n",
    "        if term == \"MLi\":\n",
    "            X.append(tmp['unique_indices'])\n",
    "        else:\n",
    "            X.append(tmp['unique_labels'])\n",
    "        Y.append(tmp['model_values'])\n",
    "\n",
    "    fig, axes = plt.subplots(1, 3, figsize=(15, 5))\n",
    "    for ax, y, x, term in zip(axes, Y, X, terms):\n",
    "        ax.plot(x, y, 'ks', mfc='none')\n",
    "        ax.set_ylabel(term)\n",
    "        if term == \"Sj\":\n",
    "            ax.tick_params(axis='x', labelrotation = 90)\n",
    "            \n",
    "    return fig, axes\n",
    "\n",
    "def vis_matrices(mats, kind='spy', **kwargs):\n",
    "\n",
    "    fs = (4.5*2, 15)\n",
    "    \n",
    "    if type(mats) is list:\n",
    "        assert type(mats[0]) is coo_matrix or type(mats[0]) is np.ndarray,\\\n",
    "        f\"Matrices in list must be coo_matrix or np.ndarray not {type(mats[0])}.\"\n",
    "\n",
    "        fig, axes = plt.subplots(1, num_mats, figsize=fs)\n",
    "    else:\n",
    "        fig, axes = plt.subplots(1, 1, figsize=fs)\n",
    "        axes = [axes,]\n",
    "        mats = [mats,]\n",
    "\n",
    "    for mat, ax in zip(mats, axes):\n",
    "\n",
    "        # spy plot\n",
    "        if kind == 'spy':\n",
    "            ax.spy(mat, aspect='auto', **kwargs)\n",
    "        # matshot\n",
    "        if kind == 'matshow':\n",
    "            a = ax.matshow(mat.toarray(), aspect='auto', **kwargs)\n",
    "            fig.colorbar(a)\n",
    "\n",
    "    fig.tight_layout()\n",
    "    \n",
    "    return fig, axes\n",
    "\n"
   ]
  },
  {
   "cell_type": "code",
   "execution_count": 5,
   "metadata": {},
   "outputs": [],
   "source": [
    "stas = for_inv[[\"Net\", \"Sta\"]].agg('.'.join, axis=1).values\n",
    "evs = for_inv['Evid'].apply(str).values"
   ]
  },
  {
   "cell_type": "code",
   "execution_count": 6,
   "metadata": {},
   "outputs": [],
   "source": [
    "logA0np = Term(\"logA0n\", \"LINEAR INTERPOLATION\", for_inv.Rhyp.values, unique_labels=interp_nodes)\n",
    "MLp = Term(\"MLi\", \"CONSTANT\", evs)\n",
    "Sjp = Term(\"Sj\", \"CONSTANT\", stas, sign=-1)"
   ]
  },
  {
   "cell_type": "code",
   "execution_count": 7,
   "metadata": {},
   "outputs": [],
   "source": [
    "logA0n = LinInterpCoeffs(logA0np) \n",
    "MLi = ConstantCoeffs(MLp)\n",
    "Sj = ConstantCoeffs(Sjp)\n",
    "G = logA0n + MLi + Sj\n",
    "d = DataArray(for_inv['halfAmpH'].apply(np.log10))"
   ]
  },
  {
   "cell_type": "code",
   "execution_count": 8,
   "metadata": {
    "scrolled": true
   },
   "outputs": [],
   "source": [
    "inv = Inversion(\"YPML\")"
   ]
  },
  {
   "cell_type": "code",
   "execution_count": 9,
   "metadata": {},
   "outputs": [],
   "source": [
    "inv.invert(G, d)"
   ]
  },
  {
   "cell_type": "code",
   "execution_count": 10,
   "metadata": {},
   "outputs": [
    {
     "data": {
      "image/png": "[encoded data removed]",
      "text/plain": [
       "<Figure size 1080x360 with 3 Axes>"
      ]
     },
     "metadata": {
      "needs_background": "light"
     },
     "output_type": "display_data"
    }
   ],
   "source": [
    "r = Richter1958()\n",
    "r.epi_to_hypo(av_dep=10.5)\n",
    "fig, axes = vis_inv_output(inv)\n",
    "axes[0].plot(r.distances[r.distances<=180], r.logA0[r.distances<=180], 'g^', label=\"R58\", zorder=1, alpha=0.65)\n",
    "axes[0].plot(18, -1.6, 'r.', mfc='none', label=\"anchor point\")\n",
    "axes[0].legend()\n",
    "axes[2].set_title(f\"\\u03A3 Sj={np.sum(G.term_map.get_term('Sj')['model_values']):.1E}\")\n",
    "fig.tight_layout()\n",
    "# axes[0].set_xscale(\"log\")"
   ]
  },
  {
   "cell_type": "markdown",
   "metadata": {},
   "source": [
    "## Smoothing parameter ($\\alpha$) penalty tests\n",
    "\n",
    "To smooth our inversions we use the Thikonov formality ()"
   ]
  },
  {
   "cell_type": "markdown",
   "metadata": {},
   "source": [
    "### Roughness vs MSE\n",
    "In the first set of tests we show the roughness ($||\\dfrac{\\mathrm{d^2}logA_{0}(R)}{\\mathrm{d}R^2}||^2$) by the mean error  of the resdiuals between predicted and recorded data (MSE). "
   ]
  },
  {
   "cell_type": "code",
   "execution_count": 11,
   "metadata": {},
   "outputs": [
    {
     "name": "stdout",
     "output_type": "stream",
     "text": [
      "Best alpha is 5.14.\n"
     ]
    }
   ],
   "source": [
    "inv = Inversion(\"YPML\")\n",
    "alphas = np.geomspace(1E-1, 20, 40)\n",
    "\n",
    "def regularisation_optimiser(inv, G, d, alphas, constraints=None):\n",
    "    \n",
    "    _rough = np.zeros(len(alphas))\n",
    "    _mse = np.zeros(len(alphas))\n",
    "\n",
    "    for i in range(len(alphas)):\n",
    "        MSE, ROUGH = reg_test_invert(inv, G, d, alphas[i], constraints)\n",
    "        _mse[i] = MSE\n",
    "        _rough[i] = ROUGH\n",
    "\n",
    "    # point of maximum curvature on L-curve is the optimal value for alpha   \n",
    "    pt = np.abs(np.diff(np.log10(_rough), 2)).argmin() \n",
    "                                       \n",
    "    return _mse, _rough, pt\n",
    "                                       \n",
    "def reg_test_invert(inv, G, d, alpha, constraints):\n",
    "    Gamma = Regularisation(G.term_map, regs=OrderedDict(logA0n=dict(kind=\"FD\", alpha=alpha)))\n",
    "    m = inv.invert(G, d, regularisation=Gamma, constraints=constraints, inplace=False)\n",
    "    fd = inv.forward(G, m)    \n",
    "    _mse = mse(d.array.A.flatten(), fd.array.A.flatten())\n",
    "    inds = m.term_map.values[\"logA0n\"]['model_indices']\n",
    "    _rough = roughness(m.array.A[inds].flatten())\n",
    "    \n",
    "    return _mse, _rough\n",
    "\n",
    "_mse, _rough, best_i = regularisation_optimiser(inv, G, d, alphas)\n",
    "print(f\"Best alpha is {alphas[best_i]:.2f}.\")"
   ]
  },
  {
   "cell_type": "markdown",
   "metadata": {},
   "source": [
    "We obtain an \"L-curve\" and choose the value for alpha at the point of maximum curvature (2nd derivative is minimum)."
   ]
  },
  {
   "cell_type": "code",
   "execution_count": 12,
   "metadata": {},
   "outputs": [
    {
     "data": {
      "image/png": "[encoded data removed]",
      "text/plain": [
       "<Figure size 576x360 with 2 Axes>"
      ]
     },
     "metadata": {
      "needs_background": "light"
     },
     "output_type": "display_data"
    }
   ],
   "source": [
    "def plot_regularisation_optimiser(mse, rough, alphas, best_i, save=\"\"):\n",
    "\n",
    "    fig, ax = plt.subplots(1,1, figsize=(8, 5))\n",
    "    out = ax.scatter(mse, rough, c=alphas, cmap=\"jet\", norm=matplotlib.cm.colors.LogNorm()) \n",
    "    ax.plot(mse[best_i], rough[best_i], 'ks', ms=10, mfc='none', label=r\"$\\alpha$={:.2f}\".format(alphas[best_i]))\n",
    "    ax.set_xlabel(\"M.S.E\")\n",
    "    ax.set_ylabel(r\"$||\\dfrac{\\mathrm{d^2}logA_{0}}{\\mathrm{d}R^2}||^2$\") \n",
    "    ax.legend()\n",
    "    fig.tight_layout()\n",
    "    fig.colorbar(out, label=r\"$\\alpha$\")\n",
    "    if save:\n",
    "        fig.savefig(save)\n",
    "        \n",
    "plot_regularisation_optimiser(_mse, _rough, alphas, best_i)"
   ]
  },
  {
   "cell_type": "markdown",
   "metadata": {},
   "source": [
    "\n"
   ]
  },
  {
   "cell_type": "markdown",
   "metadata": {},
   "source": [
    "Visulise the effect on changing $\\alpha$ on the recovered model."
   ]
  },
  {
   "cell_type": "code",
   "execution_count": 13,
   "metadata": {},
   "outputs": [
    {
     "data": {
      "application/vnd.jupyter.widget-view+json": {
       "model_id": "82ab246902d144d796979b6799ea2c5c",
       "version_major": 2,
       "version_minor": 0
      },
      "text/plain": [
       "interactive(children=(Dropdown(description='alpha', options=(0.1, 0.11, 0.13, 0.15, 0.17, 0.2, 0.23, 0.26, 0.3…"
      ]
     },
     "metadata": {},
     "output_type": "display_data"
    }
   ],
   "source": [
    "C =  Constraints(G.term_map, OrderedDict(Sj={\"SUM\":0},))\n",
    "              \n",
    "@interact\n",
    "def alpha_vis(alpha=np.round(np.geomspace(1E-1, 20, 40), 2)):\n",
    "    \n",
    "    global C\n",
    "    \n",
    "    Gamma = Regularisation(G.term_map, regs=OrderedDict(logA0n=dict(kind=\"FD\", alpha=alpha)))\n",
    "    inv = Inversion(\"YPML\")\n",
    "    inv.invert(G, d, constraints=C, regularisation=Gamma)\n",
    "\n",
    "    r = Richter1958()\n",
    "    r.epi_to_hypo(av_dep=10.5)\n",
    "    fig, axes = vis_inv_output(inv)\n",
    "    axes[0].plot(r.distances[r.distances<=180], r.logA0[r.distances<=180], 'g^', label=\"R58\", zorder=1, alpha=0.65)\n",
    "    axes[0].plot(18, -1.6, 'r.', mfc='none', label=\"anchor point\")\n",
    "    axes[0].legend()\n",
    "    axes[2].set_title(f\"\\u03A3 Sj={np.sum(G.term_map.get_term('Sj')['model_values']):.1E}\")\n",
    "    fig.tight_layout()"
   ]
  },
  {
   "cell_type": "markdown",
   "metadata": {},
   "source": [
    "Visualise the effect of arbitrary constraints on the recovered model."
   ]
  },
  {
   "cell_type": "code",
   "execution_count": 14,
   "metadata": {
    "scrolled": false
   },
   "outputs": [
    {
     "data": {
      "application/vnd.jupyter.widget-view+json": {
       "model_id": "760098f73eb34d9a897990b4fb71ce88",
       "version_major": 2,
       "version_minor": 0
      },
      "text/plain": [
       "interactive(children=(Dropdown(description='C', options=(None,  Sj\n",
       "    SUM\n",
       ",  logA0n\n",
       "    18\n",
       "Sj\n",
       "    SUM\n",
       ",  Sj\n",
       " …"
      ]
     },
     "metadata": {},
     "output_type": "display_data"
    }
   ],
   "source": [
    "c1 = OrderedDict(#logA0n={18:-1.6}, \n",
    "                   Sj={\"SUM\":0},)\n",
    "#                    Sj={\"SUM\":0, \"MB.BUT\":-0.23, #\"US.AHID\":-0.43}, \n",
    "#                        \"US.BOZ\":0.17}, #\"US.BW06\":-0.15},)\n",
    "#                    MLi=MLcons)\n",
    "c2 = OrderedDict(logA0n={18:-1.6}, \n",
    "                   Sj={\"SUM\":0},)\n",
    "#                    Sj={\"SUM\":0, \"MB.BUT\":-0.23, #\"US.AHID\":-0.43}, \n",
    "#                        \"US.BOZ\":0.17}, #\"US.BW06\":-0.15},)\n",
    "#                    MLi=MLcons)\n",
    "\n",
    "c3 = OrderedDict(#logA0n={18:-1.6}, \n",
    "                   Sj={\"SUM\":0},\n",
    "#                    Sj={\"SUM\":0, \"MB.BUT\":-0.23, #\"US.AHID\":-0.43}, \n",
    "#                        \"US.BOZ\":0.17}, #\"US.BW06\":-0.15},)\n",
    "                   MLi=MLcons)\n",
    "\n",
    "c4 = OrderedDict(logA0n={18:-1.6}, \n",
    "                   Sj={\"SUM\":0},\n",
    "#                    Sj={\"SUM\":0, \"MB.BUT\":-0.23, \"US.AHID\":-0.43}, \n",
    "#                        \"US.BOZ\":0.17}, #\"US.BW06\":-0.15},)\n",
    "                   MLi=MLcons)\n",
    "\n",
    "c5 = OrderedDict(logA0n={18:-1.6}, \n",
    "#                    Sj={\"SUM\":0},\n",
    "                   Sj={\"SUM\":0, \"MB.BUT\":-0.23, \"US.AHID\":-0.43,\n",
    "                       \"US.BOZ\":0.17, \"US.BW06\":-0.15},)\n",
    "#                    MLi=MLcons)\n",
    "\n",
    "c6 = OrderedDict(logA0n={18:-1.6}, \n",
    "#                    Sj={\"SUM\":0},\n",
    "                   Sj={\"SUM\":0, \"MB.BUT\":-0.23, \"US.AHID\":-0.43,\n",
    "                       \"US.BOZ\":0.17, \"US.BW06\":-0.15},\n",
    "                   MLi=MLcons)\n",
    "\n",
    "c7 = OrderedDict(#logA0n={18:-1.6}, \n",
    "#                    Sj={\"SUM\":0},)\n",
    "                   Sj={\"SUM\":0, \"MB.BUT\":-0.23, \"US.AHID\":-0.43, \n",
    "                       \"US.BOZ\":0.17, \"US.BW06\":-0.15},\n",
    "                   MLi=MLcons)\n",
    "\n",
    "c8 = OrderedDict(#logA0n={18:-1.6}, \n",
    "#                    Sj={\"SUM\":0},)\n",
    "                   Sj={\"SUM\":0, \"MB.BUT\":-0.23, \"US.AHID\":-0.43, \n",
    "                       \"US.BOZ\":0.17, \"US.BW06\":-0.15},)\n",
    "#                    MLi=MLcons)\n",
    "\n",
    "cons = [c1, c2, c3, c4, c5, c6, c7, c8]\n",
    "Cs = [None]+[Constraints(G.term_map, constraints=con) for con in cons]\n",
    "\n",
    "@interact\n",
    "def constraints_vis(C=Cs, A=-np.round(np.arange(0.5, 1.1, 0.1), 1)):\n",
    "\n",
    "    inv = Inversion(\"YPML\")\n",
    "    Gamma = Regularisation(G.term_map, regs=OrderedDict(logA0n=dict(kind=\"FD\", alpha=5.14)))\n",
    "    inv.invert(G, d, regularisation=Gamma, constraints=C)\n",
    "\n",
    "    r = Richter1958()\n",
    "    r.epi_to_hypo(av_dep=10.5)\n",
    "    fig, axes = vis_inv_output(inv)\n",
    "    axes[0].plot(r.distances[r.distances<=180], r.logA0[r.distances<=180], 'g^', label=\"R58\", zorder=1, alpha=0.65)\n",
    "    axes[0].hist2d(sims.rhyp, sims.A+A, bins=(30,25), cmap=\"gnuplot\", norm=matplotlib.cm.colors.LogNorm(),)\n",
    "    axes[0].plot(18, -1.6, 'r.', mfc='none', label=\"anchor point\")\n",
    "    axes[0].legend()\n",
    "    axes[2].set_title(f\"\\u03A3 Sj={np.sum(G.term_map.get_term('Sj')['model_values']):.1E}\")\n",
    "    axes[2].plot([\"MB.BUT\", \"US.AHID\", \"US.BOZ\", \"US.BW06\"], [-0.23, -0.43, 0.17, -0.15], 'ro', label='UUSS')\n",
    "    axes[2].legend()\n",
    "    fig.tight_layout()"
   ]
  },
  {
   "cell_type": "markdown",
   "metadata": {},
   "source": [
    "### Station-amplitude-distance distributions\n",
    "\n",
    "Can we speculate which stations we might expect a significant bias by looking at the KDE's of the distance distributions?"
   ]
  },
  {
   "cell_type": "code",
   "execution_count": 15,
   "metadata": {},
   "outputs": [
    {
     "data": {
      "application/vnd.jupyter.widget-view+json": {
       "model_id": "22015e7651a04928ab050dcb96bb600a",
       "version_major": 2,
       "version_minor": 0
      },
      "text/plain": [
       "interactive(children=(Dropdown(description='Sta', options=('AHID', 'LKWY', 'BUT', 'YMR', 'BOZ', 'YFT', 'BW06',…"
      ]
     },
     "metadata": {},
     "output_type": "display_data"
    }
   ],
   "source": [
    "@interact\n",
    "def plot_sta_kdes(Sta=for_inv.Sta.unique(), d=[\"Rhyp\", \"Repi\"]):\n",
    "    plt.figure(figsize=(12, 7))\n",
    "    out = for_inv.groupby(\"Sta\")[d].plot.kde(logx=True)\n",
    "    plt.xlim([5, 250])\n",
    "    plt.xlabel(d)\n",
    "    for_inv[for_inv.Sta.isin([Sta,])].groupby(\"Sta\")[d].plot.kde(color='k', lw=5)"
   ]
  },
  {
   "cell_type": "code",
   "execution_count": null,
   "metadata": {},
   "outputs": [],
   "source": [
    "\n"
   ]
  },
  {
   "cell_type": "code",
   "execution_count": 16,
   "metadata": {},
   "outputs": [],
   "source": [
    "# r = Richter1958()\n",
    "# r.epi_to_hypo(av_dep=10.5)\n",
    "# fig, axes = vis_inv_output(inv)\n",
    "# axes[0].hist2d(sims.rhyp, sims.A-0.8, bins=(30,25), cmap=\"gnuplot\", norm=matplotlib.cm.colors.LogNorm(),)\n",
    "\n",
    "# # axes[0].plot(r.distances[r.distances<=180], r.logA0[r.distances<=180], 'g^', label=\"R58\", zorder=1, alpha=0.65)\n",
    "# axes[0].plot(18, -1.6, 'r.', mfc='none', label=\"anchor point\")\n",
    "# axes[0].set_xlim([0, 185])\n",
    "# axes[0].legend()\n",
    "# axes[2].set_title(f\"\\u03A3 Sj={np.sum(G.term_map.get_term('Sj')['model_values']):.1E}\")\n",
    "# fig.tight_layout()"
   ]
  },
  {
   "cell_type": "code",
   "execution_count": null,
   "metadata": {},
   "outputs": [],
   "source": []
  },
  {
   "cell_type": "code",
   "execution_count": null,
   "metadata": {},
   "outputs": [],
   "source": []
  },
  {
   "cell_type": "code",
   "execution_count": null,
   "metadata": {},
   "outputs": [],
   "source": []
  },
  {
   "cell_type": "code",
   "execution_count": null,
   "metadata": {},
   "outputs": [],
   "source": []
  },
  {
   "cell_type": "code",
   "execution_count": null,
   "metadata": {},
   "outputs": [],
   "source": []
  }
 ],
 "metadata": {
  "kernelspec": {
   "display_name": "Python 3",
   "language": "python",
   "name": "python3"
  },
  "language_info": {
   "codemirror_mode": {
    "name": "ipython",
    "version": 3
   },
   "file_extension": ".py",
   "mimetype": "text/x-python",
   "name": "python",
   "nbconvert_exporter": "python",
   "pygments_lexer": "ipython3",
   "version": "3.8.6"
  }
 },
 "nbformat": 4,
 "nbformat_minor": 4
}
