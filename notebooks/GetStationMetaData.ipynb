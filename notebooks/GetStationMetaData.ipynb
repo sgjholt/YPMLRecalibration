{
 "cells": [
  {
   "cell_type": "code",
   "execution_count": 1,
   "metadata": {},
   "outputs": [],
   "source": [
    "from obspy import UTCDateTime, read_inventory\n",
    "from obspy.clients.fdsn import Client"
   ]
  },
  {
   "cell_type": "code",
   "execution_count": 2,
   "metadata": {},
   "outputs": [],
   "source": [
    "load = False\n",
    "starttime = UTCDateTime(\"1998-01-01\")\n",
    "endtime = UTCDateTime(\"2020-01-01\")\n",
    "\n",
    "if not load:\n",
    "    try: \n",
    "        inv = read_inventory(\"../miscmeta/sta/StationMetaData.xml\")\n",
    "    except FileNotFoundError:\n",
    "\n",
    "        client = Client(\"IRIS\")\n",
    "\n",
    "\n",
    "        inv = client.get_stations(network=\"UU,WY,US,MB,IW\", station=\"*\", \n",
    "                                        loc=\"*\", channel=\"*\",\n",
    "                                        starttime=starttime, endtime=endtime,\n",
    "                                        level='response')\n",
    "        inv.write(\"../miscmeta/sta/StationMetaData.xml\", format='STATIONXML')"
   ]
  },
  {
   "cell_type": "code",
   "execution_count": null,
   "metadata": {
    "scrolled": true
   },
   "outputs": [],
   "source": []
  },
  {
   "cell_type": "code",
   "execution_count": null,
   "metadata": {},
   "outputs": [],
   "source": []
  },
  {
   "cell_type": "code",
   "execution_count": null,
   "metadata": {},
   "outputs": [],
   "source": []
  },
  {
   "cell_type": "code",
   "execution_count": null,
   "metadata": {},
   "outputs": [],
   "source": []
  },
  {
   "cell_type": "code",
   "execution_count": null,
   "metadata": {},
   "outputs": [],
   "source": [
    "\n",
    "    "
   ]
  },
  {
   "cell_type": "code",
   "execution_count": null,
   "metadata": {},
   "outputs": [],
   "source": []
  },
  {
   "cell_type": "code",
   "execution_count": null,
   "metadata": {},
   "outputs": [],
   "source": []
  },
  {
   "cell_type": "code",
   "execution_count": null,
   "metadata": {},
   "outputs": [],
   "source": []
  }
 ],
 "metadata": {
  "kernelspec": {
   "display_name": "Python 3",
   "language": "python",
   "name": "python3"
  },
  "language_info": {
   "codemirror_mode": {
    "name": "ipython",
    "version": 3
   },
   "file_extension": ".py",
   "mimetype": "text/x-python",
   "name": "python",
   "nbconvert_exporter": "python",
   "pygments_lexer": "ipython3",
   "version": "3.8.6"
  }
 },
 "nbformat": 4,
 "nbformat_minor": 4
}
